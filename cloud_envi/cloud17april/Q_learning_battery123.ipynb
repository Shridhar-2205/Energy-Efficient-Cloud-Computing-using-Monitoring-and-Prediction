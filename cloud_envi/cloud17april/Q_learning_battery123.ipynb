{
 "cells": [
  {
   "cell_type": "code",
   "execution_count": 1,
   "metadata": {},
   "outputs": [],
   "source": [
    "import os\n",
    "\n",
    "import numpy as np\n",
    "import pandas as pd\n",
    "import tensorflow as tf\n",
    "\n",
    "from energy_py import Runner\n",
    "from energy_py.agents import DQN\n",
    "from energy_py.envs import BatteryEnv"
   ]
  },
  {
   "cell_type": "code",
   "execution_count": 2,
   "metadata": {},
   "outputs": [],
   "source": [
    "#  set random seeds for repeatability\n",
    "np.random.seed(42)\n",
    "tf.set_random_seed(42)"
   ]
  },
  {
   "cell_type": "code",
   "execution_count": 9,
   "metadata": {
    "scrolled": true
   },
   "outputs": [],
   "source": [
    "TOTAL_STEPS = 50000\n",
    "\n",
    "agent_config = {'discount': 0.97,                 #  the discount rate\n",
    "                'tau': 0.01,                     #  parameter that controls the copying of weights from online to target network\n",
    "                'total_steps': TOTAL_STEPS,   \n",
    "                'batch_size': 12,                 #  size of the minibatches used for learning\n",
    "                'layers': (20, 20),               #  structure of the neural network used to approximate Q(s,a)\n",
    "                'learning_rate': 0.01,          #  controls the stength of weight updates during learning       \n",
    "                'epsilon_decay_fraction': 0.3,    #  a fraction as % of total steps where epsilon decayed from 1.0 to 0.1\n",
    "                'memory_fraction': 0.9,           #  the size of the replay memory as a % of total steps\n",
    "                'memory_type': 'deque',           #  the replay memory implementation we want\n",
    "                'process_observation': 'standardizer',\n",
    "                'process_target': 'normalizer'}    \n",
    "\n",
    "#  we just need to let our env know where our state.csv and observation.csv are (data_path)\n",
    "env = BatteryEnv(data_path=os.getcwd())"
   ]
  },
  {
   "cell_type": "code",
   "execution_count": 10,
   "metadata": {},
   "outputs": [
    {
     "name": "stdout",
     "output_type": "stream",
     "text": [
      "copying ['hidden_layer_1', 'Variable:0'] to ['hidden_layer_1', 'Variable:0']\n",
      "copying ['hidden_layer_1', 'Variable_1:0'] to ['hidden_layer_1', 'Variable_1:0']\n",
      "copying ['input_layer', 'Variable:0'] to ['input_layer', 'Variable:0']\n",
      "copying ['input_layer', 'Variable_1:0'] to ['input_layer', 'Variable_1:0']\n",
      "copying ['output_layer', 'Variable:0'] to ['output_layer', 'Variable:0']\n",
      "copying ['output_layer', 'Variable_1:0'] to ['output_layer', 'Variable_1:0']\n",
      "copying ['hidden_layer_1', 'Variable:0'] to ['hidden_layer_1', 'Variable:0']\n",
      "copying ['hidden_layer_1', 'Variable_1:0'] to ['hidden_layer_1', 'Variable_1:0']\n",
      "copying ['input_layer', 'Variable:0'] to ['input_layer', 'Variable:0']\n",
      "copying ['input_layer', 'Variable_1:0'] to ['input_layer', 'Variable_1:0']\n",
      "copying ['output_layer', 'Variable:0'] to ['output_layer', 'Variable:0']\n",
      "copying ['output_layer', 'Variable_1:0'] to ['output_layer', 'Variable_1:0']\n",
      "copying ['hidden_layer_1', 'Variable:0'] to ['hidden_layer_1', 'Variable:0']\n",
      "copying ['hidden_layer_1', 'Variable_1:0'] to ['hidden_layer_1', 'Variable_1:0']\n",
      "copying ['input_layer', 'Variable:0'] to ['input_layer', 'Variable:0']\n",
      "copying ['input_layer', 'Variable_1:0'] to ['input_layer', 'Variable_1:0']\n",
      "copying ['output_layer', 'Variable:0'] to ['output_layer', 'Variable:0']\n",
      "copying ['output_layer', 'Variable_1:0'] to ['output_layer', 'Variable_1:0']\n",
      "progress - 0.5% - episode 5 - run time 0.05 - episode reward -10.77 - avg rewards -2.08\n",
      "progress - 0.9% - episode 10 - run time 0.06 - episode reward 1.75 - avg rewards -3.22\n",
      "progress - 1.4% - episode 15 - run time 0.06 - episode reward -5.25 - avg rewards -3.02\n",
      "progress - 1.9% - episode 20 - run time 0.07 - episode reward -6.08 - avg rewards -2.82\n",
      "progress - 2.4% - episode 25 - run time 0.07 - episode reward 3.28 - avg rewards -2.94\n",
      "progress - 2.8% - episode 30 - run time 0.08 - episode reward -9.55 - avg rewards -2.69\n",
      "progress - 3.3% - episode 35 - run time 0.09 - episode reward -3.08 - avg rewards -2.87\n",
      "progress - 3.8% - episode 40 - run time 0.09 - episode reward -5.07 - avg rewards -2.88\n",
      "progress - 4.2% - episode 45 - run time 0.10 - episode reward -3.28 - avg rewards -2.81\n",
      "progress - 4.7% - episode 50 - run time 0.10 - episode reward -10.53 - avg rewards -2.77\n",
      "progress - 5.2% - episode 55 - run time 0.11 - episode reward 1.35 - avg rewards -2.97\n",
      "progress - 5.6% - episode 60 - run time 0.11 - episode reward -6.68 - avg rewards -2.83\n",
      "progress - 6.1% - episode 65 - run time 0.11 - episode reward -7.95 - avg rewards -2.88\n",
      "progress - 6.6% - episode 70 - run time 0.12 - episode reward -6.90 - avg rewards -3.01\n",
      "progress - 7.0% - episode 75 - run time 0.12 - episode reward -0.61 - avg rewards -3.15\n",
      "progress - 7.5% - episode 80 - run time 0.13 - episode reward -0.04 - avg rewards -3.11\n",
      "progress - 8.0% - episode 85 - run time 0.13 - episode reward -6.82 - avg rewards -2.98\n",
      "progress - 8.5% - episode 90 - run time 0.14 - episode reward -7.69 - avg rewards -3.02\n",
      "progress - 8.9% - episode 95 - run time 0.15 - episode reward -1.82 - avg rewards -3.00\n",
      "progress - 9.4% - episode 100 - run time 0.15 - episode reward -11.47 - avg rewards -2.95\n",
      "progress - 9.9% - episode 105 - run time 0.16 - episode reward -3.94 - avg rewards -3.02\n",
      "progress - 10.3% - episode 110 - run time 0.16 - episode reward 0.41 - avg rewards -2.89\n",
      "progress - 10.8% - episode 115 - run time 0.17 - episode reward -3.90 - avg rewards -2.94\n",
      "progress - 11.3% - episode 120 - run time 0.18 - episode reward -7.06 - avg rewards -3.02\n",
      "progress - 11.8% - episode 125 - run time 0.18 - episode reward -6.49 - avg rewards -3.02\n",
      "progress - 12.2% - episode 130 - run time 0.19 - episode reward 2.53 - avg rewards -3.31\n",
      "progress - 12.7% - episode 135 - run time 0.20 - episode reward 2.03 - avg rewards -3.05\n",
      "progress - 13.2% - episode 140 - run time 0.21 - episode reward -11.40 - avg rewards -3.03\n",
      "progress - 13.6% - episode 145 - run time 0.22 - episode reward -0.59 - avg rewards -3.06\n",
      "progress - 14.1% - episode 150 - run time 0.23 - episode reward 0.31 - avg rewards -3.05\n",
      "progress - 14.6% - episode 155 - run time 0.24 - episode reward -6.68 - avg rewards -2.91\n",
      "progress - 15.0% - episode 160 - run time 0.26 - episode reward 1.06 - avg rewards -3.07\n",
      "progress - 15.5% - episode 165 - run time 0.27 - episode reward -10.80 - avg rewards -3.09\n",
      "progress - 16.0% - episode 170 - run time 0.28 - episode reward 3.71 - avg rewards -3.21\n",
      "progress - 16.4% - episode 175 - run time 0.29 - episode reward -0.37 - avg rewards -3.14\n",
      "progress - 16.9% - episode 180 - run time 0.31 - episode reward -6.38 - avg rewards -3.19\n",
      "progress - 17.4% - episode 185 - run time 0.33 - episode reward 0.46 - avg rewards -3.29\n",
      "progress - 17.9% - episode 190 - run time 0.34 - episode reward -3.03 - avg rewards -3.18\n",
      "progress - 18.3% - episode 195 - run time 0.36 - episode reward -1.92 - avg rewards -3.18\n",
      "progress - 18.8% - episode 200 - run time 0.38 - episode reward 2.75 - avg rewards -3.16\n",
      "progress - 19.3% - episode 205 - run time 0.40 - episode reward -3.79 - avg rewards -3.12\n",
      "progress - 19.7% - episode 210 - run time 0.42 - episode reward -7.91 - avg rewards -3.19\n",
      "progress - 20.2% - episode 215 - run time 0.44 - episode reward -5.24 - avg rewards -3.17\n",
      "progress - 20.7% - episode 220 - run time 0.45 - episode reward -2.96 - avg rewards -3.18\n",
      "progress - 21.1% - episode 225 - run time 0.47 - episode reward -6.32 - avg rewards -3.15\n",
      "progress - 21.6% - episode 230 - run time 0.49 - episode reward 2.29 - avg rewards -3.11\n",
      "progress - 22.1% - episode 235 - run time 0.51 - episode reward -3.97 - avg rewards -3.35\n",
      "progress - 22.6% - episode 240 - run time 0.54 - episode reward -3.58 - avg rewards -3.41\n",
      "progress - 23.0% - episode 245 - run time 0.57 - episode reward -3.28 - avg rewards -3.40\n",
      "progress - 23.5% - episode 250 - run time 0.60 - episode reward -4.17 - avg rewards -3.52\n",
      "progress - 24.0% - episode 255 - run time 0.63 - episode reward 0.57 - avg rewards -3.63\n",
      "progress - 24.4% - episode 260 - run time 0.66 - episode reward -3.54 - avg rewards -3.59\n",
      "progress - 24.9% - episode 265 - run time 0.69 - episode reward -2.12 - avg rewards -3.62\n",
      "progress - 25.4% - episode 270 - run time 0.72 - episode reward -4.67 - avg rewards -3.47\n",
      "progress - 25.9% - episode 275 - run time 0.73 - episode reward -10.86 - avg rewards -3.49\n",
      "progress - 26.3% - episode 280 - run time 0.76 - episode reward -2.04 - avg rewards -3.55\n",
      "progress - 26.8% - episode 285 - run time 0.80 - episode reward 0.99 - avg rewards -3.70\n",
      "progress - 27.3% - episode 290 - run time 0.84 - episode reward -5.49 - avg rewards -3.85\n",
      "progress - 27.7% - episode 295 - run time 0.88 - episode reward -7.69 - avg rewards -3.95\n",
      "progress - 28.2% - episode 300 - run time 0.91 - episode reward -4.26 - avg rewards -4.15\n",
      "progress - 28.7% - episode 305 - run time 0.94 - episode reward -6.43 - avg rewards -4.21\n",
      "progress - 29.1% - episode 310 - run time 0.96 - episode reward -10.54 - avg rewards -4.37\n",
      "progress - 29.6% - episode 315 - run time 0.98 - episode reward -8.50 - avg rewards -4.52\n",
      "progress - 30.1% - episode 320 - run time 1.01 - episode reward -5.32 - avg rewards -4.46\n",
      "progress - 30.6% - episode 325 - run time 1.04 - episode reward -6.30 - avg rewards -4.60\n",
      "progress - 31.0% - episode 330 - run time 1.09 - episode reward -8.30 - avg rewards -4.58\n",
      "progress - 31.5% - episode 335 - run time 1.13 - episode reward -3.19 - avg rewards -4.66\n",
      "progress - 32.0% - episode 340 - run time 1.17 - episode reward -3.94 - avg rewards -4.67\n",
      "progress - 32.4% - episode 345 - run time 1.22 - episode reward -3.54 - avg rewards -4.84\n",
      "progress - 32.9% - episode 350 - run time 1.26 - episode reward -5.73 - avg rewards -4.88\n",
      "progress - 33.4% - episode 355 - run time 1.30 - episode reward -5.94 - avg rewards -4.88\n",
      "progress - 33.8% - episode 360 - run time 1.34 - episode reward -10.15 - avg rewards -5.04\n",
      "progress - 34.3% - episode 365 - run time 1.39 - episode reward -8.54 - avg rewards -5.06\n",
      "progress - 34.8% - episode 370 - run time 1.44 - episode reward -2.19 - avg rewards -5.24\n",
      "progress - 35.2% - episode 375 - run time 1.49 - episode reward -6.14 - avg rewards -5.19\n",
      "progress - 35.7% - episode 380 - run time 1.53 - episode reward -6.18 - avg rewards -5.24\n",
      "progress - 36.2% - episode 385 - run time 1.57 - episode reward -6.90 - avg rewards -5.25\n"
     ]
    },
    {
     "name": "stdout",
     "output_type": "stream",
     "text": [
      "progress - 36.7% - episode 390 - run time 1.62 - episode reward -5.51 - avg rewards -5.31\n",
      "progress - 37.1% - episode 395 - run time 1.68 - episode reward -4.57 - avg rewards -5.37\n",
      "progress - 37.6% - episode 400 - run time 1.74 - episode reward -5.60 - avg rewards -5.41\n",
      "progress - 38.1% - episode 405 - run time 1.79 - episode reward -6.34 - avg rewards -5.48\n",
      "progress - 38.5% - episode 410 - run time 1.82 - episode reward -7.30 - avg rewards -5.45\n",
      "progress - 39.0% - episode 415 - run time 1.88 - episode reward -7.22 - avg rewards -5.44\n",
      "progress - 39.5% - episode 420 - run time 1.94 - episode reward -6.25 - avg rewards -5.64\n",
      "progress - 40.0% - episode 425 - run time 2.00 - episode reward -6.25 - avg rewards -5.66\n",
      "progress - 40.4% - episode 430 - run time 2.05 - episode reward -5.82 - avg rewards -5.62\n",
      "progress - 40.9% - episode 435 - run time 2.09 - episode reward -2.10 - avg rewards -5.64\n",
      "progress - 41.4% - episode 440 - run time 2.15 - episode reward -6.00 - avg rewards -5.70\n",
      "progress - 41.8% - episode 445 - run time 2.19 - episode reward -6.17 - avg rewards -5.68\n",
      "progress - 42.3% - episode 450 - run time 2.24 - episode reward -5.65 - avg rewards -5.74\n",
      "progress - 42.8% - episode 455 - run time 2.29 - episode reward -6.09 - avg rewards -5.83\n",
      "progress - 43.2% - episode 460 - run time 2.33 - episode reward -6.06 - avg rewards -5.80\n",
      "progress - 43.7% - episode 465 - run time 2.36 - episode reward -7.07 - avg rewards -5.84\n",
      "progress - 44.2% - episode 470 - run time 2.41 - episode reward -4.95 - avg rewards -5.73\n",
      "progress - 44.6% - episode 475 - run time 2.46 - episode reward -5.93 - avg rewards -5.86\n",
      "progress - 45.1% - episode 480 - run time 2.52 - episode reward -5.68 - avg rewards -5.86\n",
      "progress - 45.6% - episode 485 - run time 2.58 - episode reward -18.54 - avg rewards -6.02\n",
      "progress - 46.1% - episode 490 - run time 2.65 - episode reward -5.65 - avg rewards -5.98\n",
      "progress - 46.5% - episode 495 - run time 2.70 - episode reward -6.31 - avg rewards -5.90\n",
      "progress - 47.0% - episode 500 - run time 2.76 - episode reward -0.04 - avg rewards -6.08\n",
      "progress - 47.5% - episode 505 - run time 2.82 - episode reward -8.87 - avg rewards -5.99\n",
      "progress - 47.9% - episode 510 - run time 2.89 - episode reward -14.44 - avg rewards -6.19\n",
      "progress - 48.4% - episode 515 - run time 2.95 - episode reward 7.96 - avg rewards -6.77\n",
      "progress - 48.9% - episode 520 - run time 3.00 - episode reward 0.22 - avg rewards -6.73\n",
      "progress - 49.4% - episode 525 - run time 3.06 - episode reward -9.11 - avg rewards -6.64\n",
      "progress - 49.8% - episode 530 - run time 3.13 - episode reward -3.78 - avg rewards -6.71\n",
      "progress - 50.3% - episode 535 - run time 3.19 - episode reward 0.12 - avg rewards -6.56\n",
      "progress - 50.8% - episode 540 - run time 3.24 - episode reward -0.11 - avg rewards -6.77\n",
      "progress - 51.2% - episode 545 - run time 3.31 - episode reward -0.11 - avg rewards -6.61\n",
      "progress - 51.7% - episode 550 - run time 3.38 - episode reward -14.52 - avg rewards -7.12\n",
      "progress - 52.2% - episode 555 - run time 3.47 - episode reward -1.04 - avg rewards -7.12\n",
      "progress - 52.6% - episode 560 - run time 3.54 - episode reward -13.25 - avg rewards -6.79\n",
      "progress - 53.1% - episode 565 - run time 3.61 - episode reward -8.06 - avg rewards -7.21\n",
      "progress - 53.6% - episode 570 - run time 3.71 - episode reward -18.50 - avg rewards -7.29\n",
      "progress - 54.0% - episode 575 - run time 3.77 - episode reward -7.75 - avg rewards -7.19\n",
      "progress - 54.5% - episode 580 - run time 3.83 - episode reward 1.64 - avg rewards -7.27\n",
      "progress - 55.0% - episode 585 - run time 3.89 - episode reward -5.17 - avg rewards -7.34\n",
      "progress - 55.5% - episode 590 - run time 3.96 - episode reward -19.33 - avg rewards -7.42\n",
      "progress - 55.9% - episode 595 - run time 4.02 - episode reward -0.20 - avg rewards -7.94\n",
      "progress - 56.4% - episode 600 - run time 4.09 - episode reward -34.48 - avg rewards -7.66\n",
      "progress - 56.9% - episode 605 - run time 4.14 - episode reward -8.65 - avg rewards -7.99\n",
      "progress - 57.3% - episode 610 - run time 4.21 - episode reward -0.13 - avg rewards -7.73\n",
      "progress - 57.8% - episode 615 - run time 4.27 - episode reward 0.35 - avg rewards -7.85\n",
      "progress - 58.3% - episode 620 - run time 4.32 - episode reward -4.90 - avg rewards -7.84\n",
      "progress - 58.8% - episode 625 - run time 4.38 - episode reward -4.43 - avg rewards -8.12\n",
      "progress - 59.2% - episode 630 - run time 4.44 - episode reward -8.25 - avg rewards -8.35\n",
      "progress - 59.7% - episode 635 - run time 4.53 - episode reward 2.48 - avg rewards -8.47\n",
      "progress - 60.2% - episode 640 - run time 4.61 - episode reward -13.24 - avg rewards -8.26\n",
      "progress - 60.6% - episode 645 - run time 4.68 - episode reward -2.46 - avg rewards -9.00\n",
      "progress - 61.1% - episode 650 - run time 4.75 - episode reward 0.00 - avg rewards -8.36\n",
      "progress - 61.6% - episode 655 - run time 4.82 - episode reward -14.10 - avg rewards -8.28\n",
      "progress - 62.0% - episode 660 - run time 4.89 - episode reward -1.03 - avg rewards -8.81\n",
      "progress - 62.5% - episode 665 - run time 4.96 - episode reward -25.16 - avg rewards -8.29\n",
      "progress - 63.0% - episode 670 - run time 5.03 - episode reward 0.57 - avg rewards -8.27\n",
      "progress - 63.5% - episode 675 - run time 5.10 - episode reward -29.43 - avg rewards -8.84\n",
      "progress - 63.9% - episode 680 - run time 5.17 - episode reward 0.00 - avg rewards -8.87\n",
      "progress - 64.4% - episode 685 - run time 5.23 - episode reward -26.78 - avg rewards -8.98\n",
      "progress - 64.9% - episode 690 - run time 5.31 - episode reward -5.11 - avg rewards -8.97\n",
      "progress - 65.3% - episode 695 - run time 5.36 - episode reward -1.00 - avg rewards -8.39\n",
      "progress - 65.8% - episode 700 - run time 5.42 - episode reward -1.36 - avg rewards -8.44\n",
      "progress - 66.3% - episode 705 - run time 5.49 - episode reward -4.72 - avg rewards -8.59\n",
      "progress - 66.7% - episode 710 - run time 5.55 - episode reward -4.21 - avg rewards -8.56\n",
      "progress - 67.2% - episode 715 - run time 5.62 - episode reward 0.54 - avg rewards -7.94\n",
      "progress - 67.7% - episode 720 - run time 5.68 - episode reward -26.94 - avg rewards -8.39\n",
      "progress - 68.2% - episode 725 - run time 5.73 - episode reward 0.32 - avg rewards -8.28\n",
      "progress - 68.6% - episode 730 - run time 5.80 - episode reward 0.36 - avg rewards -7.73\n",
      "progress - 69.1% - episode 735 - run time 5.86 - episode reward -1.15 - avg rewards -7.99\n",
      "progress - 69.6% - episode 740 - run time 5.92 - episode reward -19.17 - avg rewards -8.04\n",
      "progress - 70.0% - episode 745 - run time 5.98 - episode reward 0.01 - avg rewards -7.53\n",
      "progress - 70.5% - episode 750 - run time 6.03 - episode reward -0.42 - avg rewards -7.89\n",
      "progress - 71.0% - episode 755 - run time 6.10 - episode reward -31.17 - avg rewards -7.96\n",
      "progress - 71.4% - episode 760 - run time 6.16 - episode reward -2.24 - avg rewards -8.22\n",
      "progress - 71.9% - episode 765 - run time 6.22 - episode reward -0.51 - avg rewards -8.29\n",
      "progress - 72.4% - episode 770 - run time 6.28 - episode reward 0.00 - avg rewards -7.98\n",
      "progress - 72.8% - episode 775 - run time 6.34 - episode reward 0.61 - avg rewards -7.38\n",
      "progress - 73.3% - episode 780 - run time 6.41 - episode reward -0.43 - avg rewards -7.02\n",
      "progress - 73.8% - episode 785 - run time 6.48 - episode reward -1.33 - avg rewards -6.68\n",
      "progress - 74.3% - episode 790 - run time 6.54 - episode reward -7.60 - avg rewards -6.42\n",
      "progress - 74.7% - episode 795 - run time 6.61 - episode reward -3.86 - avg rewards -6.38\n",
      "progress - 75.2% - episode 800 - run time 6.69 - episode reward 0.04 - avg rewards -6.56\n",
      "progress - 75.7% - episode 805 - run time 6.76 - episode reward -4.08 - avg rewards -6.28\n",
      "progress - 76.1% - episode 810 - run time 6.82 - episode reward -5.61 - avg rewards -6.61\n",
      "progress - 76.6% - episode 815 - run time 6.89 - episode reward -1.83 - avg rewards -6.40\n",
      "progress - 77.1% - episode 820 - run time 6.98 - episode reward -26.49 - avg rewards -5.75\n",
      "progress - 77.5% - episode 825 - run time 7.04 - episode reward 0.04 - avg rewards -5.70\n",
      "progress - 78.0% - episode 830 - run time 7.11 - episode reward -17.16 - avg rewards -5.86\n",
      "progress - 78.5% - episode 835 - run time 7.18 - episode reward 1.27 - avg rewards -5.73\n",
      "progress - 79.0% - episode 840 - run time 7.25 - episode reward -13.38 - avg rewards -5.95\n",
      "progress - 79.4% - episode 845 - run time 7.32 - episode reward -11.56 - avg rewards -6.37\n"
     ]
    },
    {
     "name": "stdout",
     "output_type": "stream",
     "text": [
      "progress - 79.9% - episode 850 - run time 7.38 - episode reward 4.44 - avg rewards -6.29\n",
      "progress - 80.4% - episode 855 - run time 7.45 - episode reward 0.03 - avg rewards -5.91\n",
      "progress - 80.8% - episode 860 - run time 7.52 - episode reward -7.93 - avg rewards -5.22\n",
      "progress - 81.3% - episode 865 - run time 7.58 - episode reward -12.56 - avg rewards -5.47\n",
      "progress - 81.8% - episode 870 - run time 7.65 - episode reward -2.10 - avg rewards -5.63\n",
      "progress - 82.2% - episode 875 - run time 7.72 - episode reward -7.67 - avg rewards -5.64\n",
      "progress - 82.7% - episode 880 - run time 7.78 - episode reward -4.89 - avg rewards -5.80\n",
      "progress - 83.2% - episode 885 - run time 7.85 - episode reward -8.10 - avg rewards -5.62\n",
      "progress - 83.7% - episode 890 - run time 7.91 - episode reward 0.52 - avg rewards -5.77\n",
      "progress - 84.1% - episode 895 - run time 7.98 - episode reward 0.67 - avg rewards -6.30\n",
      "progress - 84.6% - episode 900 - run time 8.05 - episode reward -0.14 - avg rewards -6.17\n",
      "progress - 85.1% - episode 905 - run time 8.11 - episode reward -2.38 - avg rewards -6.09\n",
      "progress - 85.5% - episode 910 - run time 8.18 - episode reward -2.68 - avg rewards -5.51\n",
      "progress - 86.0% - episode 915 - run time 8.25 - episode reward 0.11 - avg rewards -5.45\n",
      "progress - 86.5% - episode 920 - run time 8.31 - episode reward -6.11 - avg rewards -5.77\n",
      "progress - 87.0% - episode 925 - run time 8.38 - episode reward -5.70 - avg rewards -5.64\n",
      "progress - 87.4% - episode 930 - run time 8.44 - episode reward -0.11 - avg rewards -5.52\n",
      "progress - 87.9% - episode 935 - run time 8.51 - episode reward -16.77 - avg rewards -5.41\n",
      "progress - 88.4% - episode 940 - run time 8.58 - episode reward -9.17 - avg rewards -5.10\n",
      "progress - 88.8% - episode 945 - run time 8.65 - episode reward -5.16 - avg rewards -4.67\n",
      "progress - 89.3% - episode 950 - run time 8.70 - episode reward -7.15 - avg rewards -4.48\n",
      "progress - 89.8% - episode 955 - run time 8.77 - episode reward -7.53 - avg rewards -4.83\n",
      "progress - 90.2% - episode 960 - run time 8.83 - episode reward -4.05 - avg rewards -5.08\n",
      "progress - 90.7% - episode 965 - run time 8.88 - episode reward -5.38 - avg rewards -4.82\n",
      "progress - 91.2% - episode 970 - run time 8.95 - episode reward -17.28 - avg rewards -5.17\n",
      "progress - 91.7% - episode 975 - run time 9.02 - episode reward -15.15 - avg rewards -5.83\n",
      "progress - 92.1% - episode 980 - run time 9.08 - episode reward -0.71 - avg rewards -6.04\n",
      "progress - 92.6% - episode 985 - run time 9.14 - episode reward -0.64 - avg rewards -6.00\n",
      "progress - 93.1% - episode 990 - run time 9.20 - episode reward -2.34 - avg rewards -5.82\n",
      "progress - 93.5% - episode 995 - run time 9.26 - episode reward -8.69 - avg rewards -5.33\n",
      "progress - 94.0% - episode 1000 - run time 9.32 - episode reward -10.16 - avg rewards -5.49\n",
      "progress - 94.5% - episode 1005 - run time 9.37 - episode reward -9.89 - avg rewards -5.65\n",
      "progress - 94.9% - episode 1010 - run time 9.43 - episode reward 1.94 - avg rewards -5.93\n",
      "progress - 95.4% - episode 1015 - run time 9.50 - episode reward -1.65 - avg rewards -5.88\n",
      "progress - 95.9% - episode 1020 - run time 9.56 - episode reward 1.86 - avg rewards -6.00\n",
      "progress - 96.3% - episode 1025 - run time 9.63 - episode reward -1.96 - avg rewards -5.78\n",
      "progress - 96.8% - episode 1030 - run time 9.68 - episode reward 0.00 - avg rewards -5.76\n",
      "progress - 97.3% - episode 1035 - run time 9.75 - episode reward -0.06 - avg rewards -5.49\n",
      "progress - 97.8% - episode 1040 - run time 9.82 - episode reward 0.04 - avg rewards -5.25\n",
      "progress - 98.2% - episode 1045 - run time 9.87 - episode reward 0.75 - avg rewards -4.93\n",
      "progress - 98.7% - episode 1050 - run time 9.93 - episode reward -0.26 - avg rewards -4.64\n",
      "progress - 99.2% - episode 1055 - run time 9.99 - episode reward -4.41 - avg rewards -4.36\n",
      "progress - 99.6% - episode 1060 - run time 10.05 - episode reward -4.06 - avg rewards -4.30\n"
     ]
    }
   ],
   "source": [
    "#  Runner is a class that helps us with experiments - tracking rewards, writing environment info to csv and managing TensorBoard\n",
    "#  in this notebook we just use it to track rewards for us\n",
    "runner = Runner()\n",
    "\n",
    "#  initialize Tensorflow machinery\n",
    "with tf.Session() as sess:\n",
    "    sess.run(tf.global_variables_initializer())\n",
    "    \n",
    "    #  add the tf session and t-+he environment to the agent config dictionary\n",
    "    #  and initialize the agent\n",
    "    agent_config['sess'] = sess\n",
    "    agent_config['env'] = env\n",
    "    agent = DQN(**agent_config)\n",
    "    \n",
    "    #  initial values for the step and episode number\n",
    "    step, episode = 0, 0\n",
    "\n",
    "    #  outer while loop runs through multiple episodes\n",
    "    while step < TOTAL_STEPS:\n",
    "        episode += 1\n",
    "        done = False\n",
    "        observation = env.reset()\n",
    "        \n",
    "        while not done:\n",
    "            step += 1\n",
    "            action = agent.act(observation)\n",
    "            \n",
    "            next_observation, reward, done, info = env.step(action)\n",
    "            \n",
    "            #  store the experience\n",
    "            agent.remember(observation, action, reward,\n",
    "                           next_observation, done)\n",
    "            \n",
    "            #  moving to the next time step\n",
    "            observation = next_observation\n",
    "            #  saving the reward \n",
    "            runner.append(reward)\n",
    "            \n",
    "            #  we don't start learning until the memory is half full\n",
    "            if step > int(agent.memory.size * 0.5):  #set threshold to start learning\n",
    "                train_info = agent.learn()\n",
    "        \n",
    "        if episode % 5 == 0:\n",
    "            print('progress - {:.1f}% - episode {:.0f} - run time {:.2f} - episode reward {:.2f} - avg rewards {:.2f}'.format(100*step/TOTAL_STEPS,\n",
    "                                                                                                                              episode,\n",
    "                                                                                                                              runner.calc_time(),\n",
    "                                                                                                                              sum(runner.ep_rewards),\n",
    "                                                                                                                              runner.avg_rew))\n",
    "        #  the report method should be run at the end of each episode\n",
    "        runner.report({'ep': episode,\n",
    "                       'step': step})"
   ]
  },
  {
   "cell_type": "code",
   "execution_count": 11,
   "metadata": {},
   "outputs": [
    {
     "data": {
      "text/plain": [
       "[<matplotlib.lines.Line2D at 0x157771c1f28>]"
      ]
     },
     "execution_count": 11,
     "metadata": {},
     "output_type": "execute_result"
    },
    {
     "data": {
      "image/png": "[encoded data removed]",
      "text/plain": [
       "<matplotlib.figure.Figure at 0x157769ad710>"
      ]
     },
     "metadata": {},
     "output_type": "display_data"
    }
   ],
   "source": [
    "#  plot rewards\n",
    "\n",
    "import matplotlib.pyplot as plt\n",
    "\n",
    "episode_rewards = runner.global_rewards\n",
    "plt.plot(episode_rewards)"
   ]
  },
  {
   "cell_type": "code",
   "execution_count": 12,
   "metadata": {},
   "outputs": [
    {
     "data": {
      "text/html": [
       "<div>\n",
       "<style scoped>\n",
       "    .dataframe tbody tr th:only-of-type {\n",
       "        vertical-align: middle;\n",
       "    }\n",
       "\n",
       "    .dataframe tbody tr th {\n",
       "        vertical-align: top;\n",
       "    }\n",
       "\n",
       "    .dataframe thead th {\n",
       "        text-align: right;\n",
       "    }\n",
       "</style>\n",
       "<table border=\"1\" class=\"dataframe\">\n",
       "  <thead>\n",
       "    <tr style=\"text-align: right;\">\n",
       "      <th></th>\n",
       "      <th>action</th>\n",
       "      <th>cpu_utilization</th>\n",
       "      <th>gross_rate</th>\n",
       "      <th>losses</th>\n",
       "      <th>net_stored</th>\n",
       "      <th>new_rate</th>\n",
       "      <th>next_observation</th>\n",
       "      <th>next_state</th>\n",
       "      <th>observation</th>\n",
       "      <th>old_rate</th>\n",
       "      <th>reward</th>\n",
       "      <th>state</th>\n",
       "      <th>steps</th>\n",
       "    </tr>\n",
       "  </thead>\n",
       "  <tbody>\n",
       "    <tr>\n",
       "      <th>0</th>\n",
       "      <td>[1.894736842105263, 1.3684210526315788]</td>\n",
       "      <td>0.0</td>\n",
       "      <td>0.526316</td>\n",
       "      <td>0.004386</td>\n",
       "      <td>0.039474</td>\n",
       "      <td>0.039474</td>\n",
       "      <td>[[50.0, 50.0, 50.0, 100.0, 100.0, 1.0, 1.0, 0....</td>\n",
       "      <td>[[2.0, 0.03947368421052632]]</td>\n",
       "      <td>[[50.0, 50.0, 50.0, 50.0, 100.0, 0.0, 1.0, 0.0]]</td>\n",
       "      <td>0.000000</td>\n",
       "      <td>-0.000000</td>\n",
       "      <td>[[0.0, 0.0]]</td>\n",
       "      <td>1</td>\n",
       "    </tr>\n",
       "    <tr>\n",
       "      <th>1</th>\n",
       "      <td>[1.894736842105263, 1.3684210526315788]</td>\n",
       "      <td>2.0</td>\n",
       "      <td>0.526316</td>\n",
       "      <td>0.004386</td>\n",
       "      <td>0.039474</td>\n",
       "      <td>0.078947</td>\n",
       "      <td>[[50.0, 50.0, 100.0, 100.0, 100.0, 2.0, 1.0, 0...</td>\n",
       "      <td>[[3.0, 0.07894736842105264]]</td>\n",
       "      <td>[[50.0, 50.0, 50.0, 100.0, 100.0, 1.0, 1.0, 0....</td>\n",
       "      <td>0.039474</td>\n",
       "      <td>-0.087719</td>\n",
       "      <td>[[2.0, 0.03947368421052632]]</td>\n",
       "      <td>2</td>\n",
       "    </tr>\n",
       "    <tr>\n",
       "      <th>2</th>\n",
       "      <td>[1.894736842105263, 1.3684210526315788]</td>\n",
       "      <td>3.0</td>\n",
       "      <td>0.526316</td>\n",
       "      <td>0.004386</td>\n",
       "      <td>0.039474</td>\n",
       "      <td>0.118421</td>\n",
       "      <td>[[50.0, 100.0, 100.0, 100.0, 100.0, 3.0, 1.0, ...</td>\n",
       "      <td>[[4.0, 0.11842105263157897]]</td>\n",
       "      <td>[[50.0, 50.0, 100.0, 100.0, 100.0, 2.0, 1.0, 0...</td>\n",
       "      <td>0.078947</td>\n",
       "      <td>-0.131579</td>\n",
       "      <td>[[3.0, 0.07894736842105264]]</td>\n",
       "      <td>3</td>\n",
       "    </tr>\n",
       "    <tr>\n",
       "      <th>3</th>\n",
       "      <td>[1.894736842105263, 1.3684210526315788]</td>\n",
       "      <td>4.0</td>\n",
       "      <td>0.526316</td>\n",
       "      <td>0.004386</td>\n",
       "      <td>0.039474</td>\n",
       "      <td>0.157895</td>\n",
       "      <td>[[100.0, 100.0, 100.0, 100.0, 100.0, 4.0, 1.0,...</td>\n",
       "      <td>[[6.0, 0.1578947368421053]]</td>\n",
       "      <td>[[50.0, 100.0, 100.0, 100.0, 100.0, 3.0, 1.0, ...</td>\n",
       "      <td>0.118421</td>\n",
       "      <td>-0.175439</td>\n",
       "      <td>[[4.0, 0.11842105263157897]]</td>\n",
       "      <td>4</td>\n",
       "    </tr>\n",
       "    <tr>\n",
       "      <th>4</th>\n",
       "      <td>[1.894736842105263, 1.3684210526315788]</td>\n",
       "      <td>6.0</td>\n",
       "      <td>0.526316</td>\n",
       "      <td>0.004386</td>\n",
       "      <td>0.039474</td>\n",
       "      <td>0.197368</td>\n",
       "      <td>[[100.0, 100.0, 100.0, 100.0, -50.0, 5.0, 1.0,...</td>\n",
       "      <td>[[8.0, 0.19736842105263164]]</td>\n",
       "      <td>[[100.0, 100.0, 100.0, 100.0, 100.0, 4.0, 1.0,...</td>\n",
       "      <td>0.157895</td>\n",
       "      <td>-0.263158</td>\n",
       "      <td>[[6.0, 0.1578947368421053]]</td>\n",
       "      <td>5</td>\n",
       "    </tr>\n",
       "  </tbody>\n",
       "</table>\n",
       "</div>"
      ],
      "text/plain": [
       "                                    action  cpu_utilization  gross_rate  \\\n",
       "0  [1.894736842105263, 1.3684210526315788]              0.0    0.526316   \n",
       "1  [1.894736842105263, 1.3684210526315788]              2.0    0.526316   \n",
       "2  [1.894736842105263, 1.3684210526315788]              3.0    0.526316   \n",
       "3  [1.894736842105263, 1.3684210526315788]              4.0    0.526316   \n",
       "4  [1.894736842105263, 1.3684210526315788]              6.0    0.526316   \n",
       "\n",
       "     losses  net_stored  new_rate  \\\n",
       "0  0.004386    0.039474  0.039474   \n",
       "1  0.004386    0.039474  0.078947   \n",
       "2  0.004386    0.039474  0.118421   \n",
       "3  0.004386    0.039474  0.157895   \n",
       "4  0.004386    0.039474  0.197368   \n",
       "\n",
       "                                    next_observation  \\\n",
       "0  [[50.0, 50.0, 50.0, 100.0, 100.0, 1.0, 1.0, 0....   \n",
       "1  [[50.0, 50.0, 100.0, 100.0, 100.0, 2.0, 1.0, 0...   \n",
       "2  [[50.0, 100.0, 100.0, 100.0, 100.0, 3.0, 1.0, ...   \n",
       "3  [[100.0, 100.0, 100.0, 100.0, 100.0, 4.0, 1.0,...   \n",
       "4  [[100.0, 100.0, 100.0, 100.0, -50.0, 5.0, 1.0,...   \n",
       "\n",
       "                     next_state  \\\n",
       "0  [[2.0, 0.03947368421052632]]   \n",
       "1  [[3.0, 0.07894736842105264]]   \n",
       "2  [[4.0, 0.11842105263157897]]   \n",
       "3   [[6.0, 0.1578947368421053]]   \n",
       "4  [[8.0, 0.19736842105263164]]   \n",
       "\n",
       "                                         observation  old_rate    reward  \\\n",
       "0   [[50.0, 50.0, 50.0, 50.0, 100.0, 0.0, 1.0, 0.0]]  0.000000 -0.000000   \n",
       "1  [[50.0, 50.0, 50.0, 100.0, 100.0, 1.0, 1.0, 0....  0.039474 -0.087719   \n",
       "2  [[50.0, 50.0, 100.0, 100.0, 100.0, 2.0, 1.0, 0...  0.078947 -0.131579   \n",
       "3  [[50.0, 100.0, 100.0, 100.0, 100.0, 3.0, 1.0, ...  0.118421 -0.175439   \n",
       "4  [[100.0, 100.0, 100.0, 100.0, 100.0, 4.0, 1.0,...  0.157895 -0.263158   \n",
       "\n",
       "                          state  steps  \n",
       "0                  [[0.0, 0.0]]      1  \n",
       "1  [[2.0, 0.03947368421052632]]      2  \n",
       "2  [[3.0, 0.07894736842105264]]      3  \n",
       "3  [[4.0, 0.11842105263157897]]      4  \n",
       "4   [[6.0, 0.1578947368421053]]      5  "
      ]
     },
     "execution_count": 12,
     "metadata": {},
     "output_type": "execute_result"
    }
   ],
   "source": [
    "#  we can also look at what happened in our last episode\n",
    "ep_hist = pd.DataFrame.from_dict(info)\n",
    "fd = pd.DataFrame.from_dict(info)\n",
    "\n",
    "fd.columns = ['action','done','cpu_utilization','gross_rate','losses','net_stored','new_rate','next_observation','next_state','observation','old_rate','reward','state','steps']\n",
    "fd =fd.drop('done',1)\n",
    "#fd.columns = ['action', 'done','cpu_util']\n",
    "fd.head()\n",
    "#print(fd['done'],fd['action'])\n",
    "#ep_hist.head()"
   ]
  },
  {
   "cell_type": "code",
   "execution_count": 13,
   "metadata": {},
   "outputs": [
    {
     "data": {
      "text/plain": [
       "[<matplotlib.lines.Line2D at 0x15777285278>]"
      ]
     },
     "execution_count": 13,
     "metadata": {},
     "output_type": "execute_result"
    },
    {
     "data": {
      "image/png": "[encoded data removed]",
      "text/plain": [
       "<matplotlib.figure.Figure at 0x15777221b38>"
      ]
     },
     "metadata": {},
     "output_type": "display_data"
    }
   ],
   "source": [
    "#plt.plot(ep_hist.loc[:, 'new_charge'])\n",
    "plt.plot(fd.loc[:, 'new_rate'])\n"
   ]
  },
  {
   "cell_type": "code",
   "execution_count": 14,
   "metadata": {},
   "outputs": [
    {
     "name": "stdout",
     "output_type": "stream",
     "text": [
      "Loss function\n"
     ]
    },
    {
     "data": {
      "text/plain": [
       "[<matplotlib.lines.Line2D at 0x15777325080>]"
      ]
     },
     "execution_count": 14,
     "metadata": {},
     "output_type": "execute_result"
    },
    {
     "data": {
      "image/png": "[encoded data removed]",
      "text/plain": [
       "<matplotlib.figure.Figure at 0x157772dce48>"
      ]
     },
     "metadata": {},
     "output_type": "display_data"
    }
   ],
   "source": [
    "print('Loss function')\n",
    "plt.plot(fd.loc[:, 'losses'])"
   ]
  },
  {
   "cell_type": "code",
   "execution_count": 15,
   "metadata": {},
   "outputs": [
    {
     "data": {
      "text/plain": [
       "[<matplotlib.lines.Line2D at 0x15777178438>]"
      ]
     },
     "execution_count": 15,
     "metadata": {},
     "output_type": "execute_result"
    },
    {
     "data": {
      "image/png": "[encoded data removed]",
      "text/plain": [
       "<matplotlib.figure.Figure at 0x15777300160>"
      ]
     },
     "metadata": {},
     "output_type": "display_data"
    }
   ],
   "source": [
    "#plt.plot(ep_hist.loc[:, 'electricity_price'])\n",
    "plt.plot(fd.loc[:, 'cpu_utilization'])"
   ]
  },
  {
   "cell_type": "code",
   "execution_count": 16,
   "metadata": {},
   "outputs": [
    {
     "data": {
      "text/plain": [
       "-9.570175438596491"
      ]
     },
     "execution_count": 16,
     "metadata": {},
     "output_type": "execute_result"
    }
   ],
   "source": [
    "ep_hist.loc[:, 'reward'].sum()"
   ]
  },
  {
   "cell_type": "code",
   "execution_count": 17,
   "metadata": {},
   "outputs": [
    {
     "data": {
      "image/png": "[encoded data removed]",
      "text/plain": [
       "<matplotlib.figure.Figure at 0x157773675c0>"
      ]
     },
     "metadata": {},
     "output_type": "display_data"
    },
    {
     "data": {
      "text/html": [
       "<div>\n",
       "<style scoped>\n",
       "    .dataframe tbody tr th:only-of-type {\n",
       "        vertical-align: middle;\n",
       "    }\n",
       "\n",
       "    .dataframe tbody tr th {\n",
       "        vertical-align: top;\n",
       "    }\n",
       "\n",
       "    .dataframe thead th {\n",
       "        text-align: right;\n",
       "    }\n",
       "</style>\n",
       "<table border=\"1\" class=\"dataframe\">\n",
       "  <thead>\n",
       "    <tr style=\"text-align: right;\">\n",
       "      <th></th>\n",
       "      <th>Time</th>\n",
       "      <th>CPU</th>\n",
       "    </tr>\n",
       "  </thead>\n",
       "  <tbody>\n",
       "    <tr>\n",
       "      <th>0</th>\n",
       "      <td>0</td>\n",
       "      <td>50</td>\n",
       "    </tr>\n",
       "    <tr>\n",
       "      <th>1</th>\n",
       "      <td>5</td>\n",
       "      <td>50</td>\n",
       "    </tr>\n",
       "    <tr>\n",
       "      <th>2</th>\n",
       "      <td>10</td>\n",
       "      <td>50</td>\n",
       "    </tr>\n",
       "    <tr>\n",
       "      <th>3</th>\n",
       "      <td>15</td>\n",
       "      <td>50</td>\n",
       "    </tr>\n",
       "    <tr>\n",
       "      <th>4</th>\n",
       "      <td>20</td>\n",
       "      <td>100</td>\n",
       "    </tr>\n",
       "  </tbody>\n",
       "</table>\n",
       "</div>"
      ],
      "text/plain": [
       "   Time  CPU\n",
       "0     0   50\n",
       "1     5   50\n",
       "2    10   50\n",
       "3    15   50\n",
       "4    20  100"
      ]
     },
     "execution_count": 17,
     "metadata": {},
     "output_type": "execute_result"
    }
   ],
   "source": [
    "df1=pd.read_excel('C:\\\\Users\\\\DELL\\\\Anaconda3\\\\cloud17april\\\\state1.xlsx')\n",
    "plt.plot(df1['Time'],df1['CPU'])\n",
    "ax=plt.gca()\n",
    "ax.set_ylim([0,101])\n",
    "ax.set_xlim([0,60])\n",
    "plt.show()\n",
    "df1.head()"
   ]
  },
  {
   "cell_type": "code",
   "execution_count": null,
   "metadata": {},
   "outputs": [],
   "source": []
  },
  {
   "cell_type": "code",
   "execution_count": null,
   "metadata": {},
   "outputs": [],
   "source": []
  }
 ],
 "metadata": {
  "kernelspec": {
   "display_name": "Python 3",
   "language": "python",
   "name": "python3"
  },
  "language_info": {
   "codemirror_mode": {
    "name": "ipython",
    "version": 3
   },
   "file_extension": ".py",
   "mimetype": "text/x-python",
   "name": "python",
   "nbconvert_exporter": "python",
   "pygments_lexer": "ipython3",
   "version": "3.6.4"
  }
 },
 "nbformat": 4,
 "nbformat_minor": 2
}
