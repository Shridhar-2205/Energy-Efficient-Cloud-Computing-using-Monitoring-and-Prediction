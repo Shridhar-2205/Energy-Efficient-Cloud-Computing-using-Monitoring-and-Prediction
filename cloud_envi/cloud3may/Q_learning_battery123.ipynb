{
 "cells": [
  {
   "cell_type": "code",
   "execution_count": 15,
   "metadata": {},
   "outputs": [],
   "source": [
    "import os\n",
    "\n",
    "import numpy as np\n",
    "import pandas as pd\n",
    "import tensorflow as tf\n",
    "\n",
    "from energy_py import Runner\n",
    "from energy_py.agents import DQN\n",
    "from energy_py.envs import BatteryEnv"
   ]
  },
  {
   "cell_type": "code",
   "execution_count": 16,
   "metadata": {},
   "outputs": [],
   "source": [
    "#  set random seeds for repeatability\n",
    "np.random.seed(42)\n",
    "tf.set_random_seed(42)"
   ]
  },
  {
   "cell_type": "code",
   "execution_count": 20,
   "metadata": {
    "scrolled": true
   },
   "outputs": [],
   "source": [
    "#  define a total number of steps for the experiment to run\n",
    "TOTAL_STEPS = 50000\n",
    "\n",
    "agent_config = {'discount': 0.97,                 #  the discount rate\n",
    "                'tau': 0.01,                     #  parameter that controls the copying of weights from online to target network\n",
    "                'total_steps': TOTAL_STEPS,   \n",
    "                'batch_size': 12,                 #  size of the minibatches used for learning\n",
    "                'layers': (20, 20),               #  structure of the neural network used to approximate Q(s,a)\n",
    "                'learning_rate': 0.01,          #  controls the stength of weight updates during learning       \n",
    "                'epsilon_decay_fraction': 0.3,    #  a fraction as % of total steps where epsilon decayed from 1.0 to 0.1\n",
    "                'memory_fraction': 0.9,           #  the size of the replay memory as a % of total steps\n",
    "                'memory_type': 'deque',           #  the replay memory implementation we want\n",
    "                'process_observation': 'standardizer',\n",
    "                'process_target': 'normalizer'}    \n",
    "\n",
    "#  we just need to let our env know where our state.csv and observation.csv are (data_path)\n",
    "env = BatteryEnv(data_path=os.getcwd())"
   ]
  },
  {
   "cell_type": "code",
   "execution_count": 21,
   "metadata": {},
   "outputs": [
    {
     "name": "stdout",
     "output_type": "stream",
     "text": [
      "copying ['hidden_layer_1', 'Variable:0'] to ['hidden_layer_1', 'Variable:0']\n",
      "copying ['hidden_layer_1', 'Variable_1:0'] to ['hidden_layer_1', 'Variable_1:0']\n",
      "copying ['input_layer', 'Variable:0'] to ['input_layer', 'Variable:0']\n",
      "copying ['input_layer', 'Variable_1:0'] to ['input_layer', 'Variable_1:0']\n",
      "copying ['output_layer', 'Variable:0'] to ['output_layer', 'Variable:0']\n",
      "copying ['output_layer', 'Variable_1:0'] to ['output_layer', 'Variable_1:0']\n",
      "copying ['hidden_layer_1', 'Variable:0'] to ['hidden_layer_1', 'Variable:0']\n",
      "copying ['hidden_layer_1', 'Variable_1:0'] to ['hidden_layer_1', 'Variable_1:0']\n",
      "copying ['input_layer', 'Variable:0'] to ['input_layer', 'Variable:0']\n",
      "copying ['input_layer', 'Variable_1:0'] to ['input_layer', 'Variable_1:0']\n",
      "copying ['output_layer', 'Variable:0'] to ['output_layer', 'Variable:0']\n",
      "copying ['output_layer', 'Variable_1:0'] to ['output_layer', 'Variable_1:0']\n",
      "copying ['hidden_layer_1', 'Variable:0'] to ['hidden_layer_1', 'Variable:0']\n",
      "copying ['hidden_layer_1', 'Variable_1:0'] to ['hidden_layer_1', 'Variable_1:0']\n",
      "copying ['input_layer', 'Variable:0'] to ['input_layer', 'Variable:0']\n",
      "copying ['input_layer', 'Variable_1:0'] to ['input_layer', 'Variable_1:0']\n",
      "copying ['output_layer', 'Variable:0'] to ['output_layer', 'Variable:0']\n",
      "copying ['output_layer', 'Variable_1:0'] to ['output_layer', 'Variable_1:0']\n",
      "copying ['hidden_layer_1', 'Variable:0'] to ['hidden_layer_1', 'Variable:0']\n",
      "copying ['hidden_layer_1', 'Variable_1:0'] to ['hidden_layer_1', 'Variable_1:0']\n",
      "copying ['input_layer', 'Variable:0'] to ['input_layer', 'Variable:0']\n",
      "copying ['input_layer', 'Variable_1:0'] to ['input_layer', 'Variable_1:0']\n",
      "copying ['output_layer', 'Variable:0'] to ['output_layer', 'Variable:0']\n",
      "copying ['output_layer', 'Variable_1:0'] to ['output_layer', 'Variable_1:0']\n",
      "copying ['hidden_layer_1', 'Variable:0'] to ['hidden_layer_1', 'Variable:0']\n",
      "copying ['hidden_layer_1', 'Variable_1:0'] to ['hidden_layer_1', 'Variable_1:0']\n",
      "copying ['input_layer', 'Variable:0'] to ['input_layer', 'Variable:0']\n",
      "copying ['input_layer', 'Variable_1:0'] to ['input_layer', 'Variable_1:0']\n",
      "copying ['output_layer', 'Variable:0'] to ['output_layer', 'Variable:0']\n",
      "copying ['output_layer', 'Variable_1:0'] to ['output_layer', 'Variable_1:0']\n",
      "progress - 0.5% - episode 5 - run time 0.08 - episode reward -49.77 - avg rewards -18.02\n",
      "progress - 0.9% - episode 10 - run time 0.08 - episode reward -22.18 - avg rewards -30.52\n",
      "progress - 1.4% - episode 15 - run time 0.09 - episode reward -41.85 - avg rewards -29.66\n",
      "progress - 1.9% - episode 20 - run time 0.09 - episode reward -53.85 - avg rewards -29.26\n",
      "progress - 2.4% - episode 25 - run time 0.10 - episode reward -24.53 - avg rewards -32.51\n",
      "progress - 2.8% - episode 30 - run time 0.11 - episode reward -52.57 - avg rewards -32.85\n",
      "progress - 3.3% - episode 35 - run time 0.12 - episode reward -43.29 - avg rewards -35.03\n",
      "progress - 3.8% - episode 40 - run time 0.13 - episode reward -29.49 - avg rewards -35.32\n",
      "progress - 4.2% - episode 45 - run time 0.13 - episode reward -20.52 - avg rewards -35.67\n",
      "progress - 4.7% - episode 50 - run time 0.14 - episode reward -21.98 - avg rewards -36.37\n",
      "progress - 5.2% - episode 55 - run time 0.14 - episode reward -25.68 - avg rewards -37.13\n",
      "progress - 5.6% - episode 60 - run time 0.15 - episode reward -47.50 - avg rewards -36.20\n",
      "progress - 6.1% - episode 65 - run time 0.16 - episode reward -56.41 - avg rewards -37.44\n",
      "progress - 6.6% - episode 70 - run time 0.16 - episode reward -41.05 - avg rewards -38.05\n",
      "progress - 7.0% - episode 75 - run time 0.17 - episode reward -72.23 - avg rewards -37.53\n",
      "progress - 7.5% - episode 80 - run time 0.17 - episode reward -30.73 - avg rewards -37.27\n",
      "progress - 8.0% - episode 85 - run time 0.18 - episode reward -10.98 - avg rewards -36.87\n",
      "progress - 8.5% - episode 90 - run time 0.18 - episode reward -22.57 - avg rewards -37.04\n",
      "progress - 8.9% - episode 95 - run time 0.19 - episode reward -11.60 - avg rewards -37.36\n",
      "progress - 9.4% - episode 100 - run time 0.20 - episode reward -50.80 - avg rewards -37.44\n",
      "progress - 9.9% - episode 105 - run time 0.20 - episode reward -82.72 - avg rewards -38.42\n",
      "progress - 10.3% - episode 110 - run time 0.21 - episode reward -42.63 - avg rewards -38.31\n",
      "progress - 10.8% - episode 115 - run time 0.21 - episode reward -22.47 - avg rewards -38.70\n",
      "progress - 11.3% - episode 120 - run time 0.22 - episode reward -79.06 - avg rewards -39.89\n",
      "progress - 11.8% - episode 125 - run time 0.23 - episode reward -20.72 - avg rewards -39.65\n",
      "progress - 12.2% - episode 130 - run time 0.24 - episode reward -17.82 - avg rewards -39.04\n",
      "progress - 12.7% - episode 135 - run time 0.25 - episode reward -23.20 - avg rewards -38.82\n",
      "progress - 13.2% - episode 140 - run time 0.26 - episode reward -45.78 - avg rewards -39.70\n",
      "progress - 13.6% - episode 145 - run time 0.27 - episode reward -34.17 - avg rewards -39.60\n",
      "progress - 14.1% - episode 150 - run time 0.28 - episode reward -52.53 - avg rewards -39.13\n",
      "progress - 14.6% - episode 155 - run time 0.29 - episode reward -38.70 - avg rewards -38.37\n",
      "progress - 15.0% - episode 160 - run time 0.30 - episode reward -21.93 - avg rewards -39.58\n",
      "progress - 15.5% - episode 165 - run time 0.32 - episode reward -32.80 - avg rewards -38.61\n",
      "progress - 16.0% - episode 170 - run time 0.33 - episode reward -50.77 - avg rewards -37.95\n",
      "progress - 16.4% - episode 175 - run time 0.35 - episode reward -12.60 - avg rewards -38.67\n",
      "progress - 16.9% - episode 180 - run time 0.35 - episode reward -28.09 - avg rewards -39.16\n",
      "progress - 17.4% - episode 185 - run time 0.37 - episode reward -50.41 - avg rewards -39.47\n",
      "progress - 17.9% - episode 190 - run time 0.38 - episode reward -31.65 - avg rewards -40.13\n",
      "progress - 18.3% - episode 195 - run time 0.39 - episode reward -50.54 - avg rewards -39.69\n",
      "progress - 18.8% - episode 200 - run time 0.41 - episode reward -39.69 - avg rewards -40.22\n",
      "progress - 19.3% - episode 205 - run time 0.42 - episode reward -41.46 - avg rewards -40.01\n",
      "progress - 19.7% - episode 210 - run time 0.43 - episode reward -17.03 - avg rewards -39.73\n",
      "progress - 20.2% - episode 215 - run time 0.45 - episode reward -34.86 - avg rewards -39.28\n",
      "progress - 20.7% - episode 220 - run time 0.46 - episode reward -85.14 - avg rewards -39.12\n",
      "progress - 21.1% - episode 225 - run time 0.47 - episode reward -30.15 - avg rewards -39.10\n",
      "progress - 21.6% - episode 230 - run time 0.49 - episode reward -81.42 - avg rewards -40.02\n",
      "progress - 22.1% - episode 235 - run time 0.51 - episode reward -13.53 - avg rewards -41.11\n",
      "progress - 22.6% - episode 240 - run time 0.52 - episode reward -62.92 - avg rewards -39.72\n",
      "progress - 23.0% - episode 245 - run time 0.55 - episode reward -26.73 - avg rewards -40.29\n",
      "progress - 23.5% - episode 250 - run time 0.59 - episode reward -13.29 - avg rewards -40.04\n",
      "progress - 24.0% - episode 255 - run time 0.62 - episode reward -52.59 - avg rewards -39.88\n",
      "progress - 24.4% - episode 260 - run time 0.66 - episode reward -24.27 - avg rewards -39.06\n",
      "progress - 24.9% - episode 265 - run time 0.68 - episode reward -33.93 - avg rewards -39.54\n",
      "progress - 25.4% - episode 270 - run time 0.70 - episode reward -69.37 - avg rewards -40.04\n",
      "progress - 25.9% - episode 275 - run time 0.71 - episode reward -51.43 - avg rewards -39.41\n",
      "progress - 26.3% - episode 280 - run time 0.75 - episode reward -44.84 - avg rewards -39.18\n",
      "progress - 26.8% - episode 285 - run time 0.78 - episode reward -23.87 - avg rewards -38.95\n",
      "progress - 27.3% - episode 290 - run time 0.80 - episode reward -46.28 - avg rewards -38.51\n",
      "progress - 27.7% - episode 295 - run time 0.83 - episode reward -46.76 - avg rewards -38.81\n",
      "progress - 28.2% - episode 300 - run time 0.85 - episode reward -55.36 - avg rewards -37.62\n",
      "progress - 28.7% - episode 305 - run time 0.87 - episode reward -47.84 - avg rewards -37.65\n",
      "progress - 29.1% - episode 310 - run time 0.89 - episode reward -18.89 - avg rewards -38.86\n",
      "progress - 29.6% - episode 315 - run time 0.92 - episode reward -58.13 - avg rewards -39.52\n",
      "progress - 30.1% - episode 320 - run time 0.95 - episode reward -36.91 - avg rewards -39.63\n",
      "progress - 30.6% - episode 325 - run time 0.97 - episode reward -24.56 - avg rewards -38.99\n"
     ]
    },
    {
     "name": "stdout",
     "output_type": "stream",
     "text": [
      "progress - 31.0% - episode 330 - run time 0.99 - episode reward -28.08 - avg rewards -38.68\n",
      "progress - 31.5% - episode 335 - run time 1.02 - episode reward -31.85 - avg rewards -36.90\n",
      "progress - 32.0% - episode 340 - run time 1.04 - episode reward -34.28 - avg rewards -37.32\n",
      "progress - 32.4% - episode 345 - run time 1.06 - episode reward -19.08 - avg rewards -36.75\n",
      "progress - 32.9% - episode 350 - run time 1.10 - episode reward -63.83 - avg rewards -37.18\n",
      "progress - 33.4% - episode 355 - run time 1.12 - episode reward -27.14 - avg rewards -38.96\n",
      "progress - 33.8% - episode 360 - run time 1.15 - episode reward -23.87 - avg rewards -39.07\n",
      "progress - 34.3% - episode 365 - run time 1.17 - episode reward -63.17 - avg rewards -38.64\n",
      "progress - 34.8% - episode 370 - run time 1.19 - episode reward -68.26 - avg rewards -39.27\n",
      "progress - 35.2% - episode 375 - run time 1.21 - episode reward -61.19 - avg rewards -39.74\n",
      "progress - 35.7% - episode 380 - run time 1.24 - episode reward -15.32 - avg rewards -39.71\n",
      "progress - 36.2% - episode 385 - run time 1.27 - episode reward -68.88 - avg rewards -39.64\n",
      "progress - 36.7% - episode 390 - run time 1.30 - episode reward -43.51 - avg rewards -39.82\n",
      "progress - 37.1% - episode 395 - run time 1.33 - episode reward -47.80 - avg rewards -40.48\n",
      "progress - 37.6% - episode 400 - run time 1.35 - episode reward -48.88 - avg rewards -40.89\n",
      "progress - 38.1% - episode 405 - run time 1.39 - episode reward -64.34 - avg rewards -41.71\n",
      "progress - 38.5% - episode 410 - run time 1.42 - episode reward -46.39 - avg rewards -41.31\n",
      "progress - 39.0% - episode 415 - run time 1.44 - episode reward -45.08 - avg rewards -41.90\n",
      "progress - 39.5% - episode 420 - run time 1.49 - episode reward -65.30 - avg rewards -41.80\n",
      "progress - 40.0% - episode 425 - run time 1.54 - episode reward -39.69 - avg rewards -42.96\n",
      "progress - 40.4% - episode 430 - run time 1.60 - episode reward -68.63 - avg rewards -43.81\n",
      "progress - 40.9% - episode 435 - run time 1.67 - episode reward -59.37 - avg rewards -44.93\n",
      "progress - 41.4% - episode 440 - run time 1.73 - episode reward -48.63 - avg rewards -45.26\n",
      "progress - 41.8% - episode 445 - run time 1.77 - episode reward -37.91 - avg rewards -45.62\n",
      "progress - 42.3% - episode 450 - run time 1.83 - episode reward -31.98 - avg rewards -45.90\n",
      "progress - 42.8% - episode 455 - run time 1.86 - episode reward -52.75 - avg rewards -45.36\n",
      "progress - 43.2% - episode 460 - run time 1.91 - episode reward -38.77 - avg rewards -46.25\n",
      "progress - 43.7% - episode 465 - run time 1.96 - episode reward -50.11 - avg rewards -46.84\n",
      "progress - 44.2% - episode 470 - run time 1.99 - episode reward -62.84 - avg rewards -46.70\n",
      "progress - 44.6% - episode 475 - run time 2.02 - episode reward -41.96 - avg rewards -47.37\n",
      "progress - 45.1% - episode 480 - run time 2.07 - episode reward -239.61 - avg rewards -47.65\n",
      "progress - 45.6% - episode 485 - run time 2.13 - episode reward -45.45 - avg rewards -55.85\n",
      "progress - 46.1% - episode 490 - run time 2.19 - episode reward -127.34 - avg rewards -57.16\n",
      "progress - 46.5% - episode 495 - run time 2.25 - episode reward -19.18 - avg rewards -59.01\n",
      "progress - 47.0% - episode 500 - run time 2.32 - episode reward -33.97 - avg rewards -57.75\n",
      "progress - 47.5% - episode 505 - run time 2.37 - episode reward -3.98 - avg rewards -57.77\n",
      "progress - 47.9% - episode 510 - run time 2.43 - episode reward -59.02 - avg rewards -58.44\n",
      "progress - 48.4% - episode 515 - run time 2.49 - episode reward -281.74 - avg rewards -59.68\n",
      "progress - 48.9% - episode 520 - run time 2.55 - episode reward -12.45 - avg rewards -67.03\n",
      "progress - 49.4% - episode 525 - run time 2.62 - episode reward -133.06 - avg rewards -70.90\n",
      "progress - 49.8% - episode 530 - run time 2.68 - episode reward -255.29 - avg rewards -74.46\n",
      "progress - 50.3% - episode 535 - run time 2.74 - episode reward -66.99 - avg rewards -83.70\n",
      "progress - 50.8% - episode 540 - run time 2.80 - episode reward -16.70 - avg rewards -83.78\n",
      "progress - 51.2% - episode 545 - run time 2.87 - episode reward -186.84 - avg rewards -85.53\n",
      "progress - 51.7% - episode 550 - run time 2.93 - episode reward -57.06 - avg rewards -92.41\n",
      "progress - 52.2% - episode 555 - run time 2.99 - episode reward -52.15 - avg rewards -90.83\n",
      "progress - 52.6% - episode 560 - run time 3.05 - episode reward -226.36 - avg rewards -90.88\n",
      "progress - 53.1% - episode 565 - run time 3.12 - episode reward -7.63 - avg rewards -92.16\n",
      "progress - 53.6% - episode 570 - run time 3.19 - episode reward -9.94 - avg rewards -92.64\n",
      "progress - 54.0% - episode 575 - run time 3.26 - episode reward -61.19 - avg rewards -93.85\n",
      "progress - 54.5% - episode 580 - run time 3.32 - episode reward -4.06 - avg rewards -94.45\n",
      "progress - 55.0% - episode 585 - run time 3.39 - episode reward -8.81 - avg rewards -88.22\n",
      "progress - 55.5% - episode 590 - run time 3.45 - episode reward -15.62 - avg rewards -85.02\n",
      "progress - 55.9% - episode 595 - run time 3.51 - episode reward -7.52 - avg rewards -82.40\n",
      "progress - 56.4% - episode 600 - run time 3.57 - episode reward -101.40 - avg rewards -86.00\n",
      "progress - 56.9% - episode 605 - run time 3.65 - episode reward -2.50 - avg rewards -84.84\n",
      "progress - 57.3% - episode 610 - run time 3.71 - episode reward -223.73 - avg rewards -84.63\n",
      "progress - 57.8% - episode 615 - run time 3.77 - episode reward -9.52 - avg rewards -83.29\n",
      "progress - 58.3% - episode 620 - run time 3.84 - episode reward -11.66 - avg rewards -74.85\n",
      "progress - 58.8% - episode 625 - run time 3.92 - episode reward -71.45 - avg rewards -70.53\n",
      "progress - 59.2% - episode 630 - run time 3.99 - episode reward -6.53 - avg rewards -67.09\n",
      "progress - 59.7% - episode 635 - run time 4.05 - episode reward -13.31 - avg rewards -56.43\n",
      "progress - 60.2% - episode 640 - run time 4.11 - episode reward -419.82 - avg rewards -59.24\n",
      "progress - 60.6% - episode 645 - run time 4.18 - episode reward -137.18 - avg rewards -68.37\n",
      "progress - 61.1% - episode 650 - run time 4.25 - episode reward -211.62 - avg rewards -61.59\n",
      "progress - 61.6% - episode 655 - run time 4.31 - episode reward -78.78 - avg rewards -63.41\n",
      "progress - 62.0% - episode 660 - run time 4.38 - episode reward -97.49 - avg rewards -64.38\n",
      "progress - 62.5% - episode 665 - run time 4.44 - episode reward -84.88 - avg rewards -63.48\n",
      "progress - 63.0% - episode 670 - run time 4.51 - episode reward -5.74 - avg rewards -68.79\n",
      "progress - 63.5% - episode 675 - run time 4.57 - episode reward -103.08 - avg rewards -69.40\n",
      "progress - 63.9% - episode 680 - run time 4.64 - episode reward -40.02 - avg rewards -74.44\n",
      "progress - 64.4% - episode 685 - run time 4.71 - episode reward -11.85 - avg rewards -75.61\n",
      "progress - 64.9% - episode 690 - run time 4.77 - episode reward -159.86 - avg rewards -78.13\n",
      "progress - 65.3% - episode 695 - run time 4.83 - episode reward -101.06 - avg rewards -86.11\n",
      "progress - 65.8% - episode 700 - run time 4.89 - episode reward -7.51 - avg rewards -83.28\n",
      "progress - 66.3% - episode 705 - run time 4.95 - episode reward -411.48 - avg rewards -90.07\n",
      "progress - 66.7% - episode 710 - run time 5.01 - episode reward -302.38 - avg rewards -98.66\n",
      "progress - 67.2% - episode 715 - run time 5.07 - episode reward -50.57 - avg rewards -103.21\n",
      "progress - 67.7% - episode 720 - run time 5.14 - episode reward -1.18 - avg rewards -108.26\n",
      "progress - 68.2% - episode 725 - run time 5.20 - episode reward -420.12 - avg rewards -107.96\n",
      "progress - 68.6% - episode 730 - run time 5.27 - episode reward -9.73 - avg rewards -110.68\n",
      "progress - 69.1% - episode 735 - run time 5.33 - episode reward -114.42 - avg rewards -110.81\n",
      "progress - 69.6% - episode 740 - run time 5.39 - episode reward -2.29 - avg rewards -115.72\n",
      "progress - 70.0% - episode 745 - run time 5.45 - episode reward -57.23 - avg rewards -102.81\n",
      "progress - 70.5% - episode 750 - run time 5.52 - episode reward -79.06 - avg rewards -106.62\n",
      "progress - 71.0% - episode 755 - run time 5.58 - episode reward -8.20 - avg rewards -112.09\n",
      "progress - 71.4% - episode 760 - run time 5.64 - episode reward -36.87 - avg rewards -110.13\n",
      "progress - 71.9% - episode 765 - run time 5.70 - episode reward -271.06 - avg rewards -110.19\n",
      "progress - 72.4% - episode 770 - run time 5.77 - episode reward -9.36 - avg rewards -107.99\n"
     ]
    },
    {
     "name": "stdout",
     "output_type": "stream",
     "text": [
      "progress - 72.8% - episode 775 - run time 5.83 - episode reward -150.31 - avg rewards -103.97\n",
      "progress - 73.3% - episode 780 - run time 5.89 - episode reward -1.68 - avg rewards -99.26\n",
      "progress - 73.8% - episode 785 - run time 5.96 - episode reward -323.85 - avg rewards -96.25\n",
      "progress - 74.3% - episode 790 - run time 6.02 - episode reward -353.61 - avg rewards -104.21\n",
      "progress - 74.7% - episode 795 - run time 6.09 - episode reward -91.60 - avg rewards -101.84\n",
      "progress - 75.2% - episode 800 - run time 6.15 - episode reward -6.01 - avg rewards -101.97\n",
      "progress - 75.7% - episode 805 - run time 6.21 - episode reward -24.62 - avg rewards -99.22\n",
      "progress - 76.1% - episode 810 - run time 6.27 - episode reward -155.28 - avg rewards -88.30\n",
      "progress - 76.6% - episode 815 - run time 6.34 - episode reward -58.72 - avg rewards -94.63\n",
      "progress - 77.1% - episode 820 - run time 6.40 - episode reward -41.48 - avg rewards -91.25\n",
      "progress - 77.5% - episode 825 - run time 6.47 - episode reward 0.00 - avg rewards -91.56\n",
      "progress - 78.0% - episode 830 - run time 6.53 - episode reward -11.37 - avg rewards -86.54\n",
      "progress - 78.5% - episode 835 - run time 6.60 - episode reward -150.36 - avg rewards -86.32\n",
      "progress - 79.0% - episode 840 - run time 6.65 - episode reward 0.00 - avg rewards -84.73\n",
      "progress - 79.4% - episode 845 - run time 6.71 - episode reward -129.68 - avg rewards -85.10\n",
      "progress - 79.9% - episode 850 - run time 6.77 - episode reward -150.54 - avg rewards -83.60\n",
      "progress - 80.4% - episode 855 - run time 6.83 - episode reward -7.12 - avg rewards -77.87\n",
      "progress - 80.8% - episode 860 - run time 6.89 - episode reward -6.20 - avg rewards -78.28\n",
      "progress - 81.3% - episode 865 - run time 6.95 - episode reward -8.48 - avg rewards -75.90\n",
      "progress - 81.8% - episode 870 - run time 7.01 - episode reward -0.85 - avg rewards -77.19\n",
      "progress - 82.2% - episode 875 - run time 7.08 - episode reward -383.50 - avg rewards -82.92\n",
      "progress - 82.7% - episode 880 - run time 7.14 - episode reward -328.02 - avg rewards -96.55\n",
      "progress - 83.2% - episode 885 - run time 7.20 - episode reward -114.09 - avg rewards -101.63\n",
      "progress - 83.7% - episode 890 - run time 7.28 - episode reward -6.40 - avg rewards -95.21\n",
      "progress - 84.1% - episode 895 - run time 7.34 - episode reward -0.74 - avg rewards -96.49\n",
      "progress - 84.6% - episode 900 - run time 7.41 - episode reward -126.46 - avg rewards -97.64\n",
      "progress - 85.1% - episode 905 - run time 7.47 - episode reward -6.00 - avg rewards -101.72\n",
      "progress - 85.5% - episode 910 - run time 7.53 - episode reward -294.14 - avg rewards -107.81\n",
      "progress - 86.0% - episode 915 - run time 7.59 - episode reward -9.16 - avg rewards -102.27\n",
      "progress - 86.5% - episode 920 - run time 7.65 - episode reward 0.00 - avg rewards -110.68\n",
      "progress - 87.0% - episode 925 - run time 7.71 - episode reward -6.73 - avg rewards -114.81\n",
      "progress - 87.4% - episode 930 - run time 7.77 - episode reward -11.01 - avg rewards -115.16\n",
      "progress - 87.9% - episode 935 - run time 7.83 - episode reward -4.80 - avg rewards -118.36\n",
      "progress - 88.4% - episode 940 - run time 7.89 - episode reward -50.36 - avg rewards -110.62\n",
      "progress - 88.8% - episode 945 - run time 7.95 - episode reward -347.96 - avg rewards -112.75\n",
      "progress - 89.3% - episode 950 - run time 8.01 - episode reward -0.32 - avg rewards -119.52\n",
      "progress - 89.8% - episode 955 - run time 8.07 - episode reward -10.49 - avg rewards -117.46\n",
      "progress - 90.2% - episode 960 - run time 8.12 - episode reward -86.80 - avg rewards -118.33\n",
      "progress - 90.7% - episode 965 - run time 8.19 - episode reward -27.34 - avg rewards -119.38\n",
      "progress - 91.2% - episode 970 - run time 8.25 - episode reward -128.92 - avg rewards -113.10\n",
      "progress - 91.7% - episode 975 - run time 8.31 - episode reward -278.53 - avg rewards -113.47\n",
      "progress - 92.1% - episode 980 - run time 8.37 - episode reward -335.09 - avg rewards -103.70\n",
      "progress - 92.6% - episode 985 - run time 8.43 - episode reward -12.29 - avg rewards -107.40\n",
      "progress - 93.1% - episode 990 - run time 8.49 - episode reward -23.22 - avg rewards -104.57\n",
      "progress - 93.5% - episode 995 - run time 8.55 - episode reward -356.05 - avg rewards -101.13\n",
      "progress - 94.0% - episode 1000 - run time 8.61 - episode reward -109.30 - avg rewards -108.96\n",
      "progress - 94.5% - episode 1005 - run time 8.66 - episode reward -7.65 - avg rewards -111.10\n",
      "progress - 94.9% - episode 1010 - run time 8.73 - episode reward -23.73 - avg rewards -106.43\n",
      "progress - 95.4% - episode 1015 - run time 8.79 - episode reward 0.00 - avg rewards -103.19\n",
      "progress - 95.9% - episode 1020 - run time 8.85 - episode reward -161.93 - avg rewards -96.78\n",
      "progress - 96.3% - episode 1025 - run time 8.90 - episode reward -0.08 - avg rewards -94.78\n",
      "progress - 96.8% - episode 1030 - run time 8.97 - episode reward -3.49 - avg rewards -95.90\n",
      "progress - 97.3% - episode 1035 - run time 9.03 - episode reward -180.09 - avg rewards -93.65\n",
      "progress - 97.8% - episode 1040 - run time 9.09 - episode reward -133.81 - avg rewards -97.86\n",
      "progress - 98.2% - episode 1045 - run time 9.15 - episode reward -16.77 - avg rewards -99.33\n",
      "progress - 98.7% - episode 1050 - run time 9.21 - episode reward -191.81 - avg rewards -92.52\n",
      "progress - 99.2% - episode 1055 - run time 9.28 - episode reward -85.66 - avg rewards -98.27\n",
      "progress - 99.6% - episode 1060 - run time 9.34 - episode reward -4.75 - avg rewards -106.82\n"
     ]
    }
   ],
   "source": [
    "#  Runner is a class that helps us with experiments - tracking rewards, writing environment info to csv and managing TensorBoard\n",
    "#  in this notebook we just use it to track rewards for us\n",
    "runner = Runner()\n",
    "\n",
    "#  initialize Tensorflow machinery\n",
    "with tf.Session() as sess:\n",
    "    sess.run(tf.global_variables_initializer())\n",
    "    \n",
    "    #  add the tf session and t-+he environment to the agent config dictionary\n",
    "    #  and initialize the agent\n",
    "    agent_config['sess'] = sess\n",
    "    agent_config['env'] = env\n",
    "    agent = DQN(**agent_config)\n",
    "    \n",
    "    #  initial values for the step and episode number\n",
    "    step, episode = 0, 0\n",
    "\n",
    "    #  outer while loop runs through multiple episodes\n",
    "    while step < TOTAL_STEPS:\n",
    "        episode += 1\n",
    "        done = False\n",
    "        observation = env.reset()\n",
    "        \n",
    "        while not done:\n",
    "            step += 1\n",
    "            action = agent.act(observation)\n",
    "            \n",
    "            next_observation, reward, done, info = env.step(action)\n",
    "            \n",
    "            #  store the experience\n",
    "            agent.remember(observation, action, reward,\n",
    "                           next_observation, done)\n",
    "            \n",
    "            #  moving to the next time step\n",
    "            observation = next_observation\n",
    "            #  saving the reward \n",
    "            runner.append(reward)\n",
    "            \n",
    "            #  we don't start learning until the memory is half full\n",
    "            if step > int(agent.memory.size * 0.5):  #set threshold to start learning\n",
    "                train_info = agent.learn()\n",
    "        \n",
    "        if episode % 5 == 0:\n",
    "            print('progress - {:.1f}% - episode {:.0f} - run time {:.2f} - episode reward {:.2f} - avg rewards {:.2f}'.format(100*step/TOTAL_STEPS,\n",
    "                                                                                                                              episode,\n",
    "                                                                                                                              runner.calc_time(),\n",
    "                                                                                                                              sum(runner.ep_rewards),\n",
    "                                                                                                                              runner.avg_rew))\n",
    "        #  the report method should be run at the end of each episode\n",
    "        runner.report({'ep': episode,\n",
    "                       'step': step})"
   ]
  },
  {
   "cell_type": "code",
   "execution_count": 22,
   "metadata": {},
   "outputs": [
    {
     "data": {
      "text/plain": [
       "[<matplotlib.lines.Line2D at 0x187991d9f28>]"
      ]
     },
     "execution_count": 22,
     "metadata": {},
     "output_type": "execute_result"
    },
    {
     "data": {
      "image/png": "[encoded data removed]",
      "text/plain": [
       "<matplotlib.figure.Figure at 0x1879ab79ba8>"
      ]
     },
     "metadata": {},
     "output_type": "display_data"
    }
   ],
   "source": [
    "#  plot rewards\n",
    "\n",
    "import matplotlib.pyplot as plt\n",
    "\n",
    "episode_rewards = runner.global_rewards\n",
    "plt.plot(episode_rewards)"
   ]
  },
  {
   "cell_type": "code",
   "execution_count": 7,
   "metadata": {},
   "outputs": [
    {
     "data": {
      "text/html": [
       "<div>\n",
       "<style scoped>\n",
       "    .dataframe tbody tr th:only-of-type {\n",
       "        vertical-align: middle;\n",
       "    }\n",
       "\n",
       "    .dataframe tbody tr th {\n",
       "        vertical-align: top;\n",
       "    }\n",
       "\n",
       "    .dataframe thead th {\n",
       "        text-align: right;\n",
       "    }\n",
       "</style>\n",
       "<table border=\"1\" class=\"dataframe\">\n",
       "  <thead>\n",
       "    <tr style=\"text-align: right;\">\n",
       "      <th></th>\n",
       "      <th>action</th>\n",
       "      <th>cpu_utilization</th>\n",
       "      <th>gross_rate</th>\n",
       "      <th>losses</th>\n",
       "      <th>net_stored</th>\n",
       "      <th>new_rate</th>\n",
       "      <th>next_observation</th>\n",
       "      <th>next_state</th>\n",
       "      <th>observation</th>\n",
       "      <th>old_rate</th>\n",
       "      <th>reward</th>\n",
       "      <th>state</th>\n",
       "      <th>steps</th>\n",
       "    </tr>\n",
       "  </thead>\n",
       "  <tbody>\n",
       "    <tr>\n",
       "      <th>0</th>\n",
       "      <td>[0.0, 0.21052631578947367]</td>\n",
       "      <td>94.366667</td>\n",
       "      <td>0.000000</td>\n",
       "      <td>0.000000</td>\n",
       "      <td>0.000000</td>\n",
       "      <td>0.000000</td>\n",
       "      <td>[[50.0, 50.0, 50.0, 100.0, 100.0, 1.0, 1.0, 0.0]]</td>\n",
       "      <td>[[94.7, 0.0]]</td>\n",
       "      <td>[[50.0, 50.0, 50.0, 50.0, 100.0, 0.0, 1.0, 0.0]]</td>\n",
       "      <td>0.000000</td>\n",
       "      <td>-0.000000</td>\n",
       "      <td>[[94.36666667, 0.0]]</td>\n",
       "      <td>1</td>\n",
       "    </tr>\n",
       "    <tr>\n",
       "      <th>1</th>\n",
       "      <td>[1.789473684210526, 2.0]</td>\n",
       "      <td>94.700000</td>\n",
       "      <td>0.000000</td>\n",
       "      <td>0.000000</td>\n",
       "      <td>0.000000</td>\n",
       "      <td>0.000000</td>\n",
       "      <td>[[50.0, 50.0, 100.0, 100.0, 100.0, 2.0, 1.0, 0...</td>\n",
       "      <td>[[94.4, 0.0]]</td>\n",
       "      <td>[[50.0, 50.0, 50.0, 100.0, 100.0, 1.0, 1.0, 0.0]]</td>\n",
       "      <td>0.000000</td>\n",
       "      <td>-0.000000</td>\n",
       "      <td>[[94.7, 0.0]]</td>\n",
       "      <td>2</td>\n",
       "    </tr>\n",
       "    <tr>\n",
       "      <th>2</th>\n",
       "      <td>[1.5789473684210527, 1.1578947368421053]</td>\n",
       "      <td>94.400000</td>\n",
       "      <td>0.421053</td>\n",
       "      <td>0.003509</td>\n",
       "      <td>0.031579</td>\n",
       "      <td>0.031579</td>\n",
       "      <td>[[50.0, 100.0, 100.0, 100.0, 100.0, 3.0, 1.0, ...</td>\n",
       "      <td>[[94.33333333, 0.031578947368421054]]</td>\n",
       "      <td>[[50.0, 50.0, 100.0, 100.0, 100.0, 2.0, 1.0, 0...</td>\n",
       "      <td>0.000000</td>\n",
       "      <td>-3.312281</td>\n",
       "      <td>[[94.4, 0.0]]</td>\n",
       "      <td>3</td>\n",
       "    </tr>\n",
       "    <tr>\n",
       "      <th>3</th>\n",
       "      <td>[2.0, 0.21052631578947367]</td>\n",
       "      <td>94.333333</td>\n",
       "      <td>1.789474</td>\n",
       "      <td>0.014912</td>\n",
       "      <td>0.134211</td>\n",
       "      <td>0.165789</td>\n",
       "      <td>[[100.0, 100.0, 100.0, 100.0, 100.0, 4.0, 1.0,...</td>\n",
       "      <td>[[94.53333333, 0.16578947368421054]]</td>\n",
       "      <td>[[50.0, 100.0, 100.0, 100.0, 100.0, 3.0, 1.0, ...</td>\n",
       "      <td>0.031579</td>\n",
       "      <td>-14.067251</td>\n",
       "      <td>[[94.33333333, 0.031578947368421054]]</td>\n",
       "      <td>4</td>\n",
       "    </tr>\n",
       "    <tr>\n",
       "      <th>4</th>\n",
       "      <td>[2.0, 0.42105263157894735]</td>\n",
       "      <td>94.533333</td>\n",
       "      <td>1.578947</td>\n",
       "      <td>0.013158</td>\n",
       "      <td>0.118421</td>\n",
       "      <td>0.284211</td>\n",
       "      <td>[[100.0, 100.0, 100.0, 100.0, -50.0, 5.0, 1.0,...</td>\n",
       "      <td>[[94.16666667, 0.2842105263157895]]</td>\n",
       "      <td>[[100.0, 100.0, 100.0, 100.0, 100.0, 4.0, 1.0,...</td>\n",
       "      <td>0.165789</td>\n",
       "      <td>-12.438596</td>\n",
       "      <td>[[94.53333333, 0.16578947368421054]]</td>\n",
       "      <td>5</td>\n",
       "    </tr>\n",
       "  </tbody>\n",
       "</table>\n",
       "</div>"
      ],
      "text/plain": [
       "                                     action  cpu_utilization  gross_rate  \\\n",
       "0                [0.0, 0.21052631578947367]        94.366667    0.000000   \n",
       "1                  [1.789473684210526, 2.0]        94.700000    0.000000   \n",
       "2  [1.5789473684210527, 1.1578947368421053]        94.400000    0.421053   \n",
       "3                [2.0, 0.21052631578947367]        94.333333    1.789474   \n",
       "4                [2.0, 0.42105263157894735]        94.533333    1.578947   \n",
       "\n",
       "     losses  net_stored  new_rate  \\\n",
       "0  0.000000    0.000000  0.000000   \n",
       "1  0.000000    0.000000  0.000000   \n",
       "2  0.003509    0.031579  0.031579   \n",
       "3  0.014912    0.134211  0.165789   \n",
       "4  0.013158    0.118421  0.284211   \n",
       "\n",
       "                                    next_observation  \\\n",
       "0  [[50.0, 50.0, 50.0, 100.0, 100.0, 1.0, 1.0, 0.0]]   \n",
       "1  [[50.0, 50.0, 100.0, 100.0, 100.0, 2.0, 1.0, 0...   \n",
       "2  [[50.0, 100.0, 100.0, 100.0, 100.0, 3.0, 1.0, ...   \n",
       "3  [[100.0, 100.0, 100.0, 100.0, 100.0, 4.0, 1.0,...   \n",
       "4  [[100.0, 100.0, 100.0, 100.0, -50.0, 5.0, 1.0,...   \n",
       "\n",
       "                              next_state  \\\n",
       "0                          [[94.7, 0.0]]   \n",
       "1                          [[94.4, 0.0]]   \n",
       "2  [[94.33333333, 0.031578947368421054]]   \n",
       "3   [[94.53333333, 0.16578947368421054]]   \n",
       "4    [[94.16666667, 0.2842105263157895]]   \n",
       "\n",
       "                                         observation  old_rate     reward  \\\n",
       "0   [[50.0, 50.0, 50.0, 50.0, 100.0, 0.0, 1.0, 0.0]]  0.000000  -0.000000   \n",
       "1  [[50.0, 50.0, 50.0, 100.0, 100.0, 1.0, 1.0, 0.0]]  0.000000  -0.000000   \n",
       "2  [[50.0, 50.0, 100.0, 100.0, 100.0, 2.0, 1.0, 0...  0.000000  -3.312281   \n",
       "3  [[50.0, 100.0, 100.0, 100.0, 100.0, 3.0, 1.0, ...  0.031579 -14.067251   \n",
       "4  [[100.0, 100.0, 100.0, 100.0, 100.0, 4.0, 1.0,...  0.165789 -12.438596   \n",
       "\n",
       "                                   state  steps  \n",
       "0                   [[94.36666667, 0.0]]      1  \n",
       "1                          [[94.7, 0.0]]      2  \n",
       "2                          [[94.4, 0.0]]      3  \n",
       "3  [[94.33333333, 0.031578947368421054]]      4  \n",
       "4   [[94.53333333, 0.16578947368421054]]      5  "
      ]
     },
     "execution_count": 7,
     "metadata": {},
     "output_type": "execute_result"
    }
   ],
   "source": [
    "#  we can also look at what happened in our last episode\n",
    "ep_hist = pd.DataFrame.from_dict(info)\n",
    "fd = pd.DataFrame.from_dict(info)\n",
    "\n",
    "fd.columns = ['action','done','cpu_utilization','gross_rate','losses','net_stored','new_rate','next_observation','next_state','observation','old_rate','reward','state','steps']\n",
    "fd =fd.drop('done',1)\n",
    "#fd.columns = ['action', 'done','cpu_util']\n",
    "fd.head()\n",
    "#print(fd['done'],fd['action'])\n",
    "#ep_hist.head()"
   ]
  },
  {
   "cell_type": "code",
   "execution_count": 8,
   "metadata": {},
   "outputs": [
    {
     "data": {
      "text/plain": [
       "[<matplotlib.lines.Line2D at 0x221e8403ba8>]"
      ]
     },
     "execution_count": 8,
     "metadata": {},
     "output_type": "execute_result"
    },
    {
     "data": {
      "image/png": "[encoded data removed]",
      "text/plain": [
       "<matplotlib.figure.Figure at 0x221e6e8ad68>"
      ]
     },
     "metadata": {},
     "output_type": "display_data"
    }
   ],
   "source": [
    "#plt.plot(ep_hist.loc[:, 'new_charge'])\n",
    "plt.plot(fd.loc[:, 'new_rate'])\n"
   ]
  },
  {
   "cell_type": "code",
   "execution_count": 9,
   "metadata": {},
   "outputs": [
    {
     "name": "stdout",
     "output_type": "stream",
     "text": [
      "Loss function\n"
     ]
    },
    {
     "data": {
      "text/plain": [
       "[<matplotlib.lines.Line2D at 0x221e8472048>]"
      ]
     },
     "execution_count": 9,
     "metadata": {},
     "output_type": "execute_result"
    },
    {
     "data": {
      "image/png": "[encoded data removed]",
      "text/plain": [
       "<matplotlib.figure.Figure at 0x221e83e31d0>"
      ]
     },
     "metadata": {},
     "output_type": "display_data"
    }
   ],
   "source": [
    "print('Loss function')\n",
    "plt.plot(fd.loc[:, 'losses'])"
   ]
  },
  {
   "cell_type": "code",
   "execution_count": 10,
   "metadata": {},
   "outputs": [
    {
     "data": {
      "text/plain": [
       "[<matplotlib.lines.Line2D at 0x221e84d72b0>]"
      ]
     },
     "execution_count": 10,
     "metadata": {},
     "output_type": "execute_result"
    },
    {
     "data": {
      "image/png": "[encoded data removed]",
      "text/plain": [
       "<matplotlib.figure.Figure at 0x221e8449048>"
      ]
     },
     "metadata": {},
     "output_type": "display_data"
    }
   ],
   "source": [
    "#plt.plot(ep_hist.loc[:, 'electricity_price'])\n",
    "plt.plot(fd.loc[:, 'cpu_utilization'])"
   ]
  },
  {
   "cell_type": "code",
   "execution_count": 17,
   "metadata": {},
   "outputs": [
    {
     "data": {
      "text/plain": [
       "-3.921052631578947"
      ]
     },
     "execution_count": 17,
     "metadata": {},
     "output_type": "execute_result"
    }
   ],
   "source": [
    "ep_hist.loc[:, 'reward'].sum()"
   ]
  },
  {
   "cell_type": "code",
   "execution_count": 22,
   "metadata": {},
   "outputs": [
    {
     "data": {
      "image/png": "[encoded data removed]",
      "text/plain": [
       "<matplotlib.figure.Figure at 0x1d054d451d0>"
      ]
     },
     "metadata": {},
     "output_type": "display_data"
    },
    {
     "data": {
      "text/html": [
       "<div>\n",
       "<style scoped>\n",
       "    .dataframe tbody tr th:only-of-type {\n",
       "        vertical-align: middle;\n",
       "    }\n",
       "\n",
       "    .dataframe tbody tr th {\n",
       "        vertical-align: top;\n",
       "    }\n",
       "\n",
       "    .dataframe thead th {\n",
       "        text-align: right;\n",
       "    }\n",
       "</style>\n",
       "<table border=\"1\" class=\"dataframe\">\n",
       "  <thead>\n",
       "    <tr style=\"text-align: right;\">\n",
       "      <th></th>\n",
       "      <th>Time</th>\n",
       "      <th>CPU</th>\n",
       "    </tr>\n",
       "  </thead>\n",
       "  <tbody>\n",
       "    <tr>\n",
       "      <th>0</th>\n",
       "      <td>0</td>\n",
       "      <td>34</td>\n",
       "    </tr>\n",
       "    <tr>\n",
       "      <th>1</th>\n",
       "      <td>5</td>\n",
       "      <td>23</td>\n",
       "    </tr>\n",
       "    <tr>\n",
       "      <th>2</th>\n",
       "      <td>10</td>\n",
       "      <td>23</td>\n",
       "    </tr>\n",
       "    <tr>\n",
       "      <th>3</th>\n",
       "      <td>15</td>\n",
       "      <td>34</td>\n",
       "    </tr>\n",
       "    <tr>\n",
       "      <th>4</th>\n",
       "      <td>20</td>\n",
       "      <td>56</td>\n",
       "    </tr>\n",
       "  </tbody>\n",
       "</table>\n",
       "</div>"
      ],
      "text/plain": [
       "   Time  CPU\n",
       "0     0   34\n",
       "1     5   23\n",
       "2    10   23\n",
       "3    15   34\n",
       "4    20   56"
      ]
     },
     "execution_count": 22,
     "metadata": {},
     "output_type": "execute_result"
    }
   ],
   "source": [
    "df1=pd.read_excel('C:\\\\Users\\\\DELL\\\\Anaconda3\\\\cloud2may\\\\state1.xlsx')\n",
    "plt.plot(df1['Time'],df1['CPU'])\n",
    "ax=plt.gca()\n",
    "ax.set_ylim([0,101])\n",
    "ax.set_xlim([0,100])\n",
    "plt.show()\n",
    "df1.head()"
   ]
  },
  {
   "cell_type": "code",
   "execution_count": null,
   "metadata": {},
   "outputs": [],
   "source": []
  }
 ],
 "metadata": {
  "kernelspec": {
   "display_name": "Python 3",
   "language": "python",
   "name": "python3"
  },
  "language_info": {
   "codemirror_mode": {
    "name": "ipython",
    "version": 3
   },
   "file_extension": ".py",
   "mimetype": "text/x-python",
   "name": "python",
   "nbconvert_exporter": "python",
   "pygments_lexer": "ipython3",
   "version": "3.6.4"
  }
 },
 "nbformat": 4,
 "nbformat_minor": 2
}
