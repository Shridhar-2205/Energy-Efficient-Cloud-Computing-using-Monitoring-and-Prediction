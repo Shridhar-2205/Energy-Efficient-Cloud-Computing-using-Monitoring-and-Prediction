{
 "cells": [
  {
   "cell_type": "code",
   "execution_count": 1,
   "metadata": {},
   "outputs": [],
   "source": [
    "import os\n",
    "\n",
    "import numpy as np\n",
    "import pandas as pd\n",
    "import tensorflow as tf\n",
    "\n",
    "from energy_py import Runner\n",
    "from energy_py.agents import DQN\n",
    "from energy_py.envs import BatteryEnv"
   ]
  },
  {
   "cell_type": "code",
   "execution_count": 2,
   "metadata": {},
   "outputs": [],
   "source": [
    "#  set random seeds for repeatability\n",
    "np.random.seed(42)\n",
    "tf.set_random_seed(42)"
   ]
  },
  {
   "cell_type": "code",
   "execution_count": 3,
   "metadata": {
    "scrolled": true
   },
   "outputs": [],
   "source": [
    "#  define a total number of steps for the experiment to run\n",
    "TOTAL_STEPS = 400000\n",
    "\n",
    "agent_config = {'discount': 0.97,                 #  the discount rate\n",
    "                'tau': 0.01,                     #  parameter that controls the copying of weights from online to target network\n",
    "                'total_steps': TOTAL_STEPS,   \n",
    "                'batch_size': 32,                 #  size of the minibatches used for learning\n",
    "                'layers': (50, 50),               #  structure of the neural network used to approximate Q(s,a)\n",
    "                'learning_rate': 0.01,          #  controls the stength of weight updates during learning       \n",
    "                'epsilon_decay_fraction': 0.3,    #  a fraction as % of total steps where epsilon decayed from 1.0 to 0.1\n",
    "                'memory_fraction': 0.7,           #  the size of the replay memory as a % of total steps\n",
    "                'memory_type': 'deque',           #  the replay memory implementation we want\n",
    "                'process_observation': 'standardizer',\n",
    "                'process_target': 'normalizer'}    \n",
    "\n",
    "#  we just need to let our env know where our state.csv and observation.csv are (data_path)\n",
    "env = BatteryEnv(data_path=os.getcwd())"
   ]
  },
  {
   "cell_type": "code",
   "execution_count": 4,
   "metadata": {},
   "outputs": [
    {
     "name": "stdout",
     "output_type": "stream",
     "text": [
      "copying ['hidden_layer_1', 'Variable:0'] to ['hidden_layer_1', 'Variable:0']\n",
      "copying ['hidden_layer_1', 'Variable_1:0'] to ['hidden_layer_1', 'Variable_1:0']\n",
      "copying ['input_layer', 'Variable:0'] to ['input_layer', 'Variable:0']\n",
      "copying ['input_layer', 'Variable_1:0'] to ['input_layer', 'Variable_1:0']\n",
      "copying ['output_layer', 'Variable:0'] to ['output_layer', 'Variable:0']\n",
      "copying ['output_layer', 'Variable_1:0'] to ['output_layer', 'Variable_1:0']\n",
      "progress - 2.4% - episode 200 - run time 0.17 - episode reward -26.75 - avg rewards -29.55\n",
      "progress - 4.7% - episode 400 - run time 0.32 - episode reward -5.71 - avg rewards -29.07\n",
      "progress - 7.0% - episode 600 - run time 0.47 - episode reward -35.55 - avg rewards -28.49\n",
      "progress - 9.4% - episode 800 - run time 0.62 - episode reward -34.74 - avg rewards -31.66\n",
      "progress - 11.8% - episode 1000 - run time 0.78 - episode reward -45.99 - avg rewards -32.24\n",
      "progress - 14.1% - episode 1200 - run time 1.01 - episode reward -45.83 - avg rewards -35.01\n",
      "progress - 16.4% - episode 1400 - run time 1.29 - episode reward -54.23 - avg rewards -38.63\n",
      "progress - 18.8% - episode 1600 - run time 1.64 - episode reward -45.50 - avg rewards -44.58\n",
      "progress - 21.1% - episode 1800 - run time 2.04 - episode reward -84.17 - avg rewards -46.23\n",
      "progress - 23.5% - episode 2000 - run time 2.50 - episode reward -43.46 - avg rewards -53.98\n",
      "progress - 25.9% - episode 2200 - run time 3.02 - episode reward -43.26 - avg rewards -60.06\n",
      "progress - 28.2% - episode 2400 - run time 3.62 - episode reward -69.36 - avg rewards -62.22\n",
      "progress - 30.6% - episode 2600 - run time 4.27 - episode reward -96.07 - avg rewards -68.68\n",
      "progress - 32.9% - episode 2800 - run time 5.04 - episode reward -69.31 - avg rewards -74.17\n",
      "progress - 35.2% - episode 3000 - run time 6.31 - episode reward -58.70 - avg rewards -78.47\n",
      "progress - 37.6% - episode 3200 - run time 9.57 - episode reward -14.17 - avg rewards -26.08\n",
      "progress - 40.0% - episode 3400 - run time 12.85 - episode reward -0.44 - avg rewards -0.92\n",
      "progress - 42.3% - episode 3600 - run time 16.13 - episode reward -0.13 - avg rewards -0.63\n",
      "progress - 44.6% - episode 3800 - run time 19.43 - episode reward 0.00 - avg rewards -0.79\n",
      "progress - 47.0% - episode 4000 - run time 22.75 - episode reward 0.00 - avg rewards -0.70\n",
      "progress - 49.4% - episode 4200 - run time 26.06 - episode reward -1.34 - avg rewards -0.67\n",
      "progress - 51.7% - episode 4400 - run time 29.59 - episode reward -0.26 - avg rewards -0.68\n",
      "progress - 54.0% - episode 4600 - run time 32.99 - episode reward -0.54 - avg rewards -0.76\n",
      "progress - 56.4% - episode 4800 - run time 36.45 - episode reward -0.51 - avg rewards -0.55\n",
      "progress - 58.8% - episode 5000 - run time 39.82 - episode reward 0.00 - avg rewards -0.86\n",
      "progress - 61.1% - episode 5200 - run time 43.21 - episode reward -0.13 - avg rewards -0.65\n",
      "progress - 63.5% - episode 5400 - run time 46.59 - episode reward -0.40 - avg rewards -0.71\n",
      "progress - 65.8% - episode 5600 - run time 49.97 - episode reward 0.00 - avg rewards -0.65\n",
      "progress - 68.2% - episode 5800 - run time 53.37 - episode reward -0.19 - avg rewards -0.85\n",
      "progress - 70.5% - episode 6000 - run time 56.75 - episode reward -1.03 - avg rewards -0.70\n"
     ]
    },
    {
     "ename": "KeyboardInterrupt",
     "evalue": "",
     "output_type": "error",
     "traceback": [
      "\u001b[1;31m---------------------------------------------------------------------------\u001b[0m",
      "\u001b[1;31mKeyboardInterrupt\u001b[0m                         Traceback (most recent call last)",
      "\u001b[1;32m<ipython-input-4-1b030228dbea>\u001b[0m in \u001b[0;36m<module>\u001b[1;34m()\u001b[0m\n\u001b[0;32m     39\u001b[0m             \u001b[1;31m#  we don't start learning until the memory is half full\u001b[0m\u001b[1;33m\u001b[0m\u001b[1;33m\u001b[0m\u001b[0m\n\u001b[0;32m     40\u001b[0m             \u001b[1;32mif\u001b[0m \u001b[0mstep\u001b[0m \u001b[1;33m>\u001b[0m \u001b[0mint\u001b[0m\u001b[1;33m(\u001b[0m\u001b[0magent\u001b[0m\u001b[1;33m.\u001b[0m\u001b[0mmemory\u001b[0m\u001b[1;33m.\u001b[0m\u001b[0msize\u001b[0m \u001b[1;33m*\u001b[0m \u001b[1;36m0.5\u001b[0m\u001b[1;33m)\u001b[0m\u001b[1;33m:\u001b[0m  \u001b[1;31m#set threshold to start learning\u001b[0m\u001b[1;33m\u001b[0m\u001b[0m\n\u001b[1;32m---> 41\u001b[1;33m                 \u001b[0mtrain_info\u001b[0m \u001b[1;33m=\u001b[0m \u001b[0magent\u001b[0m\u001b[1;33m.\u001b[0m\u001b[0mlearn\u001b[0m\u001b[1;33m(\u001b[0m\u001b[1;33m)\u001b[0m\u001b[1;33m\u001b[0m\u001b[0m\n\u001b[0m\u001b[0;32m     42\u001b[0m \u001b[1;33m\u001b[0m\u001b[0m\n\u001b[0;32m     43\u001b[0m         \u001b[1;32mif\u001b[0m \u001b[0mepisode\u001b[0m \u001b[1;33m%\u001b[0m \u001b[1;36m200\u001b[0m \u001b[1;33m==\u001b[0m \u001b[1;36m0\u001b[0m\u001b[1;33m:\u001b[0m\u001b[1;33m\u001b[0m\u001b[0m\n",
      "\u001b[1;32m~\\Anaconda3\\cloud30april\\energy_py\\agents\\agent.py\u001b[0m in \u001b[0;36mlearn\u001b[1;34m(self, **kwargs)\u001b[0m\n\u001b[0;32m    143\u001b[0m         \"\"\"\n\u001b[0;32m    144\u001b[0m         \u001b[0mlogger\u001b[0m\u001b[1;33m.\u001b[0m\u001b[0mdebug\u001b[0m\u001b[1;33m(\u001b[0m\u001b[1;34m'Agent is learning'\u001b[0m\u001b[1;33m)\u001b[0m\u001b[1;33m\u001b[0m\u001b[0m\n\u001b[1;32m--> 145\u001b[1;33m         \u001b[1;32mreturn\u001b[0m \u001b[0mself\u001b[0m\u001b[1;33m.\u001b[0m\u001b[0m_learn\u001b[0m\u001b[1;33m(\u001b[0m\u001b[1;33m**\u001b[0m\u001b[0mkwargs\u001b[0m\u001b[1;33m)\u001b[0m\u001b[1;33m\u001b[0m\u001b[0m\n\u001b[0m\u001b[0;32m    146\u001b[0m \u001b[1;33m\u001b[0m\u001b[0m\n\u001b[0;32m    147\u001b[0m     \u001b[1;32mdef\u001b[0m \u001b[0mremember\u001b[0m\u001b[1;33m(\u001b[0m\u001b[0mself\u001b[0m\u001b[1;33m,\u001b[0m \u001b[0mobservation\u001b[0m\u001b[1;33m,\u001b[0m \u001b[0maction\u001b[0m\u001b[1;33m,\u001b[0m \u001b[0mreward\u001b[0m\u001b[1;33m,\u001b[0m \u001b[0mnext_observation\u001b[0m\u001b[1;33m,\u001b[0m \u001b[0mdone\u001b[0m\u001b[1;33m)\u001b[0m\u001b[1;33m:\u001b[0m\u001b[1;33m\u001b[0m\u001b[0m\n",
      "\u001b[1;32m~\\Anaconda3\\cloud30april\\energy_py\\agents\\dqn.py\u001b[0m in \u001b[0;36m_learn\u001b[1;34m(self)\u001b[0m\n\u001b[0;32m    305\u001b[0m             \u001b[1;31m#  max across the target network\u001b[0m\u001b[1;33m\u001b[0m\u001b[1;33m\u001b[0m\u001b[0m\n\u001b[0;32m    306\u001b[0m             \u001b[0mlogger\u001b[0m\u001b[1;33m.\u001b[0m\u001b[0mdebug\u001b[0m\u001b[1;33m(\u001b[0m\u001b[1;34m'DQN update'\u001b[0m\u001b[1;33m)\u001b[0m\u001b[1;33m\u001b[0m\u001b[0m\n\u001b[1;32m--> 307\u001b[1;33m             \u001b[0m_\u001b[0m\u001b[1;33m,\u001b[0m \u001b[0mnext_obs_q\u001b[0m \u001b[1;33m=\u001b[0m \u001b[0mself\u001b[0m\u001b[1;33m.\u001b[0m\u001b[0mpredict_target\u001b[0m\u001b[1;33m(\u001b[0m\u001b[0mnext_observations\u001b[0m\u001b[1;33m)\u001b[0m\u001b[1;33m\u001b[0m\u001b[0m\n\u001b[0m\u001b[0;32m    308\u001b[0m \u001b[1;33m\u001b[0m\u001b[0m\n\u001b[0;32m    309\u001b[0m         \u001b[1;32mif\u001b[0m \u001b[0mself\u001b[0m\u001b[1;33m.\u001b[0m\u001b[0mdouble_q\u001b[0m\u001b[1;33m:\u001b[0m\u001b[1;33m\u001b[0m\u001b[0m\n",
      "\u001b[1;32m~\\Anaconda3\\cloud30april\\energy_py\\agents\\dqn.py\u001b[0m in \u001b[0;36mpredict_target\u001b[1;34m(self, observations)\u001b[0m\n\u001b[0;32m    156\u001b[0m         \u001b[0mfeed_dict\u001b[0m \u001b[1;33m=\u001b[0m \u001b[1;33m{\u001b[0m\u001b[0mself\u001b[0m\u001b[1;33m.\u001b[0m\u001b[0mtarget\u001b[0m\u001b[1;33m.\u001b[0m\u001b[0mobservation\u001b[0m\u001b[1;33m:\u001b[0m \u001b[0mobservations\u001b[0m\u001b[1;33m}\u001b[0m\u001b[1;33m\u001b[0m\u001b[0m\n\u001b[0;32m    157\u001b[0m \u001b[1;33m\u001b[0m\u001b[0m\n\u001b[1;32m--> 158\u001b[1;33m         \u001b[0mq_vals\u001b[0m\u001b[1;33m,\u001b[0m \u001b[0mmax_q\u001b[0m\u001b[1;33m,\u001b[0m \u001b[0msummary\u001b[0m \u001b[1;33m=\u001b[0m \u001b[0mself\u001b[0m\u001b[1;33m.\u001b[0m\u001b[0msess\u001b[0m\u001b[1;33m.\u001b[0m\u001b[0mrun\u001b[0m\u001b[1;33m(\u001b[0m\u001b[0mfetches\u001b[0m\u001b[1;33m,\u001b[0m \u001b[0mfeed_dict\u001b[0m\u001b[1;33m)\u001b[0m\u001b[1;33m\u001b[0m\u001b[0m\n\u001b[0m\u001b[0;32m    159\u001b[0m \u001b[1;33m\u001b[0m\u001b[0m\n\u001b[0;32m    160\u001b[0m         \u001b[1;32mif\u001b[0m \u001b[0mhasattr\u001b[0m\u001b[1;33m(\u001b[0m\u001b[0mself\u001b[0m\u001b[1;33m,\u001b[0m \u001b[1;34m'learning_writer'\u001b[0m\u001b[1;33m)\u001b[0m\u001b[1;33m:\u001b[0m\u001b[1;33m\u001b[0m\u001b[0m\n",
      "\u001b[1;32m~\\Anaconda3\\lib\\site-packages\\tensorflow\\python\\client\\session.py\u001b[0m in \u001b[0;36mrun\u001b[1;34m(self, fetches, feed_dict, options, run_metadata)\u001b[0m\n\u001b[0;32m    787\u001b[0m     \u001b[1;32mtry\u001b[0m\u001b[1;33m:\u001b[0m\u001b[1;33m\u001b[0m\u001b[0m\n\u001b[0;32m    788\u001b[0m       result = self._run(None, fetches, feed_dict, options_ptr,\n\u001b[1;32m--> 789\u001b[1;33m                          run_metadata_ptr)\n\u001b[0m\u001b[0;32m    790\u001b[0m       \u001b[1;32mif\u001b[0m \u001b[0mrun_metadata\u001b[0m\u001b[1;33m:\u001b[0m\u001b[1;33m\u001b[0m\u001b[0m\n\u001b[0;32m    791\u001b[0m         \u001b[0mproto_data\u001b[0m \u001b[1;33m=\u001b[0m \u001b[0mtf_session\u001b[0m\u001b[1;33m.\u001b[0m\u001b[0mTF_GetBuffer\u001b[0m\u001b[1;33m(\u001b[0m\u001b[0mrun_metadata_ptr\u001b[0m\u001b[1;33m)\u001b[0m\u001b[1;33m\u001b[0m\u001b[0m\n",
      "\u001b[1;32m~\\Anaconda3\\lib\\site-packages\\tensorflow\\python\\client\\session.py\u001b[0m in \u001b[0;36m_run\u001b[1;34m(self, handle, fetches, feed_dict, options, run_metadata)\u001b[0m\n\u001b[0;32m    995\u001b[0m     \u001b[1;32mif\u001b[0m \u001b[0mfinal_fetches\u001b[0m \u001b[1;32mor\u001b[0m \u001b[0mfinal_targets\u001b[0m\u001b[1;33m:\u001b[0m\u001b[1;33m\u001b[0m\u001b[0m\n\u001b[0;32m    996\u001b[0m       results = self._do_run(handle, final_targets, final_fetches,\n\u001b[1;32m--> 997\u001b[1;33m                              feed_dict_string, options, run_metadata)\n\u001b[0m\u001b[0;32m    998\u001b[0m     \u001b[1;32melse\u001b[0m\u001b[1;33m:\u001b[0m\u001b[1;33m\u001b[0m\u001b[0m\n\u001b[0;32m    999\u001b[0m       \u001b[0mresults\u001b[0m \u001b[1;33m=\u001b[0m \u001b[1;33m[\u001b[0m\u001b[1;33m]\u001b[0m\u001b[1;33m\u001b[0m\u001b[0m\n",
      "\u001b[1;32m~\\Anaconda3\\lib\\site-packages\\tensorflow\\python\\client\\session.py\u001b[0m in \u001b[0;36m_do_run\u001b[1;34m(self, handle, target_list, fetch_list, feed_dict, options, run_metadata)\u001b[0m\n\u001b[0;32m   1130\u001b[0m     \u001b[1;32mif\u001b[0m \u001b[0mhandle\u001b[0m \u001b[1;32mis\u001b[0m \u001b[1;32mNone\u001b[0m\u001b[1;33m:\u001b[0m\u001b[1;33m\u001b[0m\u001b[0m\n\u001b[0;32m   1131\u001b[0m       return self._do_call(_run_fn, self._session, feed_dict, fetch_list,\n\u001b[1;32m-> 1132\u001b[1;33m                            target_list, options, run_metadata)\n\u001b[0m\u001b[0;32m   1133\u001b[0m     \u001b[1;32melse\u001b[0m\u001b[1;33m:\u001b[0m\u001b[1;33m\u001b[0m\u001b[0m\n\u001b[0;32m   1134\u001b[0m       return self._do_call(_prun_fn, self._session, handle, feed_dict,\n",
      "\u001b[1;32m~\\Anaconda3\\lib\\site-packages\\tensorflow\\python\\client\\session.py\u001b[0m in \u001b[0;36m_do_call\u001b[1;34m(self, fn, *args)\u001b[0m\n\u001b[0;32m   1137\u001b[0m   \u001b[1;32mdef\u001b[0m \u001b[0m_do_call\u001b[0m\u001b[1;33m(\u001b[0m\u001b[0mself\u001b[0m\u001b[1;33m,\u001b[0m \u001b[0mfn\u001b[0m\u001b[1;33m,\u001b[0m \u001b[1;33m*\u001b[0m\u001b[0margs\u001b[0m\u001b[1;33m)\u001b[0m\u001b[1;33m:\u001b[0m\u001b[1;33m\u001b[0m\u001b[0m\n\u001b[0;32m   1138\u001b[0m     \u001b[1;32mtry\u001b[0m\u001b[1;33m:\u001b[0m\u001b[1;33m\u001b[0m\u001b[0m\n\u001b[1;32m-> 1139\u001b[1;33m       \u001b[1;32mreturn\u001b[0m \u001b[0mfn\u001b[0m\u001b[1;33m(\u001b[0m\u001b[1;33m*\u001b[0m\u001b[0margs\u001b[0m\u001b[1;33m)\u001b[0m\u001b[1;33m\u001b[0m\u001b[0m\n\u001b[0m\u001b[0;32m   1140\u001b[0m     \u001b[1;32mexcept\u001b[0m \u001b[0merrors\u001b[0m\u001b[1;33m.\u001b[0m\u001b[0mOpError\u001b[0m \u001b[1;32mas\u001b[0m \u001b[0me\u001b[0m\u001b[1;33m:\u001b[0m\u001b[1;33m\u001b[0m\u001b[0m\n\u001b[0;32m   1141\u001b[0m       \u001b[0mmessage\u001b[0m \u001b[1;33m=\u001b[0m \u001b[0mcompat\u001b[0m\u001b[1;33m.\u001b[0m\u001b[0mas_text\u001b[0m\u001b[1;33m(\u001b[0m\u001b[0me\u001b[0m\u001b[1;33m.\u001b[0m\u001b[0mmessage\u001b[0m\u001b[1;33m)\u001b[0m\u001b[1;33m\u001b[0m\u001b[0m\n",
      "\u001b[1;32m~\\Anaconda3\\lib\\site-packages\\tensorflow\\python\\client\\session.py\u001b[0m in \u001b[0;36m_run_fn\u001b[1;34m(session, feed_dict, fetch_list, target_list, options, run_metadata)\u001b[0m\n\u001b[0;32m   1119\u001b[0m         return tf_session.TF_Run(session, options,\n\u001b[0;32m   1120\u001b[0m                                  \u001b[0mfeed_dict\u001b[0m\u001b[1;33m,\u001b[0m \u001b[0mfetch_list\u001b[0m\u001b[1;33m,\u001b[0m \u001b[0mtarget_list\u001b[0m\u001b[1;33m,\u001b[0m\u001b[1;33m\u001b[0m\u001b[0m\n\u001b[1;32m-> 1121\u001b[1;33m                                  status, run_metadata)\n\u001b[0m\u001b[0;32m   1122\u001b[0m \u001b[1;33m\u001b[0m\u001b[0m\n\u001b[0;32m   1123\u001b[0m     \u001b[1;32mdef\u001b[0m \u001b[0m_prun_fn\u001b[0m\u001b[1;33m(\u001b[0m\u001b[0msession\u001b[0m\u001b[1;33m,\u001b[0m \u001b[0mhandle\u001b[0m\u001b[1;33m,\u001b[0m \u001b[0mfeed_dict\u001b[0m\u001b[1;33m,\u001b[0m \u001b[0mfetch_list\u001b[0m\u001b[1;33m)\u001b[0m\u001b[1;33m:\u001b[0m\u001b[1;33m\u001b[0m\u001b[0m\n",
      "\u001b[1;31mKeyboardInterrupt\u001b[0m: "
     ]
    }
   ],
   "source": [
    "#  Runner is a class that helps us with experiments - tracking rewards, writing environment info to csv and managing TensorBoard\n",
    "#  in this notebook we just use it to track rewards for us\n",
    "runner = Runner()\n",
    "\n",
    "#  initialize Tensorflow machinery\n",
    "with tf.Session() as sess:\n",
    "    sess.run(tf.global_variables_initializer())\n",
    "    \n",
    "    #  add the tf session and t-+he environment to the agent config dictionary\n",
    "    #  and initialize the agent\n",
    "    agent_config['sess'] = sess\n",
    "    agent_config['env'] = env\n",
    "    agent = DQN(**agent_config)\n",
    "    \n",
    "    #  initial values for the step and episode number\n",
    "    step, episode = 0, 0\n",
    "\n",
    "    #  outer while loop runs through multiple episodes\n",
    "    while step < TOTAL_STEPS:\n",
    "        episode += 1\n",
    "        done = False\n",
    "        observation = env.reset()\n",
    "        \n",
    "        while not done:\n",
    "            step += 1\n",
    "            action = agent.act(observation)\n",
    "            \n",
    "            next_observation, reward, done, info = env.step(action)\n",
    "            \n",
    "            #  store the experience\n",
    "            agent.remember(observation, action, reward,\n",
    "                           next_observation, done)\n",
    "            \n",
    "            #  moving to the next time step\n",
    "            observation = next_observation\n",
    "            #  saving the reward \n",
    "            runner.append(reward)\n",
    "            \n",
    "            #  we don't start learning until the memory is half full\n",
    "            if step > int(agent.memory.size * 0.5):  #set threshold to start learning\n",
    "                train_info = agent.learn()\n",
    "        \n",
    "        if episode % 200 == 0:\n",
    "            print('progress - {:.1f}% - episode {:.0f} - run time {:.2f} - episode reward {:.2f} - avg rewards {:.2f}'.format(100*step/TOTAL_STEPS,\n",
    "                                                                                                                              episode,\n",
    "                                                                                                                              runner.calc_time(),\n",
    "                                                                                                                              sum(runner.ep_rewards),\n",
    "                                                                                                                              runner.avg_rew))\n",
    "        #  the report method should be run at the end of each episode\n",
    "        runner.report({'ep': episode,\n",
    "                       'step': step})"
   ]
  },
  {
   "cell_type": "code",
   "execution_count": null,
   "metadata": {},
   "outputs": [],
   "source": []
  },
  {
   "cell_type": "code",
   "execution_count": 6,
   "metadata": {},
   "outputs": [
    {
     "data": {
      "text/plain": [
       "[<matplotlib.lines.Line2D at 0x220aa125080>]"
      ]
     },
     "execution_count": 6,
     "metadata": {},
     "output_type": "execute_result"
    },
    {
     "data": {
      "image/png": "[encoded data removed]",
      "text/plain": [
       "<matplotlib.figure.Figure at 0x220aa0a6358>"
      ]
     },
     "metadata": {},
     "output_type": "display_data"
    }
   ],
   "source": [
    "#  plot rewards\n",
    "\n",
    "import matplotlib.pyplot as plt\n",
    "\n",
    "episode_rewards = runner.global_rewards\n",
    "plt.plot(episode_rewards)"
   ]
  },
  {
   "cell_type": "code",
   "execution_count": 7,
   "metadata": {},
   "outputs": [
    {
     "data": {
      "text/html": [
       "<div>\n",
       "<style scoped>\n",
       "    .dataframe tbody tr th:only-of-type {\n",
       "        vertical-align: middle;\n",
       "    }\n",
       "\n",
       "    .dataframe tbody tr th {\n",
       "        vertical-align: top;\n",
       "    }\n",
       "\n",
       "    .dataframe thead th {\n",
       "        text-align: right;\n",
       "    }\n",
       "</style>\n",
       "<table border=\"1\" class=\"dataframe\">\n",
       "  <thead>\n",
       "    <tr style=\"text-align: right;\">\n",
       "      <th></th>\n",
       "      <th>action</th>\n",
       "      <th>cpu_utilization</th>\n",
       "      <th>gross_rate</th>\n",
       "      <th>losses</th>\n",
       "      <th>net_stored</th>\n",
       "      <th>new_rate</th>\n",
       "      <th>next_observation</th>\n",
       "      <th>next_state</th>\n",
       "      <th>observation</th>\n",
       "      <th>old_rate</th>\n",
       "      <th>reward</th>\n",
       "      <th>state</th>\n",
       "      <th>steps</th>\n",
       "    </tr>\n",
       "  </thead>\n",
       "  <tbody>\n",
       "    <tr>\n",
       "      <th>0</th>\n",
       "      <td>[0.7368421052631579, 1.4736842105263157]</td>\n",
       "      <td>73.366667</td>\n",
       "      <td>0.0</td>\n",
       "      <td>0</td>\n",
       "      <td>0.0</td>\n",
       "      <td>0.0</td>\n",
       "      <td>[[50.0, 50.0, 50.0, 100.0, 100.0, 1.0, 1.0, 0.0]]</td>\n",
       "      <td>[[73.7, 0.0]]</td>\n",
       "      <td>[[50.0, 50.0, 50.0, 50.0, 100.0, 0.0, 1.0, 0.0]]</td>\n",
       "      <td>0.0</td>\n",
       "      <td>-0.0</td>\n",
       "      <td>[[73.36666667, 0.0]]</td>\n",
       "      <td>1</td>\n",
       "    </tr>\n",
       "    <tr>\n",
       "      <th>1</th>\n",
       "      <td>[0.631578947368421, 1.789473684210526]</td>\n",
       "      <td>73.700000</td>\n",
       "      <td>0.0</td>\n",
       "      <td>0</td>\n",
       "      <td>0.0</td>\n",
       "      <td>0.0</td>\n",
       "      <td>[[50.0, 50.0, 100.0, 100.0, 100.0, 2.0, 1.0, 0...</td>\n",
       "      <td>[[73.4, 0.0]]</td>\n",
       "      <td>[[50.0, 50.0, 50.0, 100.0, 100.0, 1.0, 1.0, 0.0]]</td>\n",
       "      <td>0.0</td>\n",
       "      <td>-0.0</td>\n",
       "      <td>[[73.7, 0.0]]</td>\n",
       "      <td>2</td>\n",
       "    </tr>\n",
       "    <tr>\n",
       "      <th>2</th>\n",
       "      <td>[0.631578947368421, 1.789473684210526]</td>\n",
       "      <td>73.400000</td>\n",
       "      <td>0.0</td>\n",
       "      <td>0</td>\n",
       "      <td>0.0</td>\n",
       "      <td>0.0</td>\n",
       "      <td>[[50.0, 100.0, 100.0, 100.0, 100.0, 3.0, 1.0, ...</td>\n",
       "      <td>[[73.33333333, 0.0]]</td>\n",
       "      <td>[[50.0, 50.0, 100.0, 100.0, 100.0, 2.0, 1.0, 0...</td>\n",
       "      <td>0.0</td>\n",
       "      <td>-0.0</td>\n",
       "      <td>[[73.4, 0.0]]</td>\n",
       "      <td>3</td>\n",
       "    </tr>\n",
       "    <tr>\n",
       "      <th>3</th>\n",
       "      <td>[0.631578947368421, 1.789473684210526]</td>\n",
       "      <td>73.333333</td>\n",
       "      <td>0.0</td>\n",
       "      <td>0</td>\n",
       "      <td>0.0</td>\n",
       "      <td>0.0</td>\n",
       "      <td>[[100.0, 100.0, 100.0, 100.0, 100.0, 4.0, 1.0,...</td>\n",
       "      <td>[[73.53333333, 0.0]]</td>\n",
       "      <td>[[50.0, 100.0, 100.0, 100.0, 100.0, 3.0, 1.0, ...</td>\n",
       "      <td>0.0</td>\n",
       "      <td>-0.0</td>\n",
       "      <td>[[73.33333333, 0.0]]</td>\n",
       "      <td>4</td>\n",
       "    </tr>\n",
       "    <tr>\n",
       "      <th>4</th>\n",
       "      <td>[0.631578947368421, 1.789473684210526]</td>\n",
       "      <td>73.533333</td>\n",
       "      <td>0.0</td>\n",
       "      <td>0</td>\n",
       "      <td>0.0</td>\n",
       "      <td>0.0</td>\n",
       "      <td>[[100.0, 100.0, 100.0, 100.0, -50.0, 5.0, 1.0,...</td>\n",
       "      <td>[[73.16666667, 0.0]]</td>\n",
       "      <td>[[100.0, 100.0, 100.0, 100.0, 100.0, 4.0, 1.0,...</td>\n",
       "      <td>0.0</td>\n",
       "      <td>-0.0</td>\n",
       "      <td>[[73.53333333, 0.0]]</td>\n",
       "      <td>5</td>\n",
       "    </tr>\n",
       "  </tbody>\n",
       "</table>\n",
       "</div>"
      ],
      "text/plain": [
       "                                     action  cpu_utilization  gross_rate  \\\n",
       "0  [0.7368421052631579, 1.4736842105263157]        73.366667         0.0   \n",
       "1    [0.631578947368421, 1.789473684210526]        73.700000         0.0   \n",
       "2    [0.631578947368421, 1.789473684210526]        73.400000         0.0   \n",
       "3    [0.631578947368421, 1.789473684210526]        73.333333         0.0   \n",
       "4    [0.631578947368421, 1.789473684210526]        73.533333         0.0   \n",
       "\n",
       "   losses  net_stored  new_rate  \\\n",
       "0       0         0.0       0.0   \n",
       "1       0         0.0       0.0   \n",
       "2       0         0.0       0.0   \n",
       "3       0         0.0       0.0   \n",
       "4       0         0.0       0.0   \n",
       "\n",
       "                                    next_observation            next_state  \\\n",
       "0  [[50.0, 50.0, 50.0, 100.0, 100.0, 1.0, 1.0, 0.0]]         [[73.7, 0.0]]   \n",
       "1  [[50.0, 50.0, 100.0, 100.0, 100.0, 2.0, 1.0, 0...         [[73.4, 0.0]]   \n",
       "2  [[50.0, 100.0, 100.0, 100.0, 100.0, 3.0, 1.0, ...  [[73.33333333, 0.0]]   \n",
       "3  [[100.0, 100.0, 100.0, 100.0, 100.0, 4.0, 1.0,...  [[73.53333333, 0.0]]   \n",
       "4  [[100.0, 100.0, 100.0, 100.0, -50.0, 5.0, 1.0,...  [[73.16666667, 0.0]]   \n",
       "\n",
       "                                         observation  old_rate  reward  \\\n",
       "0   [[50.0, 50.0, 50.0, 50.0, 100.0, 0.0, 1.0, 0.0]]       0.0    -0.0   \n",
       "1  [[50.0, 50.0, 50.0, 100.0, 100.0, 1.0, 1.0, 0.0]]       0.0    -0.0   \n",
       "2  [[50.0, 50.0, 100.0, 100.0, 100.0, 2.0, 1.0, 0...       0.0    -0.0   \n",
       "3  [[50.0, 100.0, 100.0, 100.0, 100.0, 3.0, 1.0, ...       0.0    -0.0   \n",
       "4  [[100.0, 100.0, 100.0, 100.0, 100.0, 4.0, 1.0,...       0.0    -0.0   \n",
       "\n",
       "                  state  steps  \n",
       "0  [[73.36666667, 0.0]]      1  \n",
       "1         [[73.7, 0.0]]      2  \n",
       "2         [[73.4, 0.0]]      3  \n",
       "3  [[73.33333333, 0.0]]      4  \n",
       "4  [[73.53333333, 0.0]]      5  "
      ]
     },
     "execution_count": 7,
     "metadata": {},
     "output_type": "execute_result"
    }
   ],
   "source": [
    "#  we can also look at what happened in our last episode\n",
    "ep_hist = pd.DataFrame.from_dict(info)\n",
    "fd = pd.DataFrame.from_dict(info)\n",
    "\n",
    "fd.columns = ['action','done','cpu_utilization','gross_rate','losses','net_stored','new_rate','next_observation','next_state','observation','old_rate','reward','state','steps']\n",
    "fd =fd.drop('done',1)\n",
    "#fd.columns = ['action', 'done','cpu_util']\n",
    "fd.head()\n",
    "#print(fd['done'],fd['action'])\n",
    "#ep_hist.head()"
   ]
  },
  {
   "cell_type": "code",
   "execution_count": 8,
   "metadata": {},
   "outputs": [
    {
     "data": {
      "text/plain": [
       "[<matplotlib.lines.Line2D at 0x220aa674cf8>]"
      ]
     },
     "execution_count": 8,
     "metadata": {},
     "output_type": "execute_result"
    },
    {
     "data": {
      "image/png": "[encoded data removed]",
      "text/plain": [
       "<matplotlib.figure.Figure at 0x220aa12a470>"
      ]
     },
     "metadata": {},
     "output_type": "display_data"
    }
   ],
   "source": [
    "#plt.plot(ep_hist.loc[:, 'new_charge'])\n",
    "plt.plot(fd.loc[:, 'new_rate'])\n"
   ]
  },
  {
   "cell_type": "code",
   "execution_count": 9,
   "metadata": {},
   "outputs": [
    {
     "name": "stdout",
     "output_type": "stream",
     "text": [
      "Loss function\n"
     ]
    },
    {
     "data": {
      "text/plain": [
       "[<matplotlib.lines.Line2D at 0x220aa6e03c8>]"
      ]
     },
     "execution_count": 9,
     "metadata": {},
     "output_type": "execute_result"
    },
    {
     "data": {
      "image/png": "[encoded data removed]",
      "text/plain": [
       "<matplotlib.figure.Figure at 0x220aa136f98>"
      ]
     },
     "metadata": {},
     "output_type": "display_data"
    }
   ],
   "source": [
    "print('Loss function')\n",
    "plt.plot(fd.loc[:, 'losses'])"
   ]
  },
  {
   "cell_type": "code",
   "execution_count": 10,
   "metadata": {},
   "outputs": [
    {
     "data": {
      "text/plain": [
       "[<matplotlib.lines.Line2D at 0x220aa73d630>]"
      ]
     },
     "execution_count": 10,
     "metadata": {},
     "output_type": "execute_result"
    },
    {
     "data": {
      "image/png": "[encoded data removed]",
      "text/plain": [
       "<matplotlib.figure.Figure at 0x220aa6a49b0>"
      ]
     },
     "metadata": {},
     "output_type": "display_data"
    }
   ],
   "source": [
    "#plt.plot(ep_hist.loc[:, 'electricity_price'])\n",
    "plt.plot(fd.loc[:, 'cpu_utilization'])"
   ]
  },
  {
   "cell_type": "code",
   "execution_count": 11,
   "metadata": {},
   "outputs": [
    {
     "data": {
      "text/plain": [
       "0.0"
      ]
     },
     "execution_count": 11,
     "metadata": {},
     "output_type": "execute_result"
    }
   ],
   "source": [
    "ep_hist.loc[:, 'reward'].sum()"
   ]
  },
  {
   "cell_type": "code",
   "execution_count": 12,
   "metadata": {},
   "outputs": [
    {
     "data": {
      "image/png": "[encoded data removed]",
      "text/plain": [
       "<matplotlib.figure.Figure at 0x220aa7c5b38>"
      ]
     },
     "metadata": {},
     "output_type": "display_data"
    },
    {
     "data": {
      "text/html": [
       "<div>\n",
       "<style scoped>\n",
       "    .dataframe tbody tr th:only-of-type {\n",
       "        vertical-align: middle;\n",
       "    }\n",
       "\n",
       "    .dataframe tbody tr th {\n",
       "        vertical-align: top;\n",
       "    }\n",
       "\n",
       "    .dataframe thead th {\n",
       "        text-align: right;\n",
       "    }\n",
       "</style>\n",
       "<table border=\"1\" class=\"dataframe\">\n",
       "  <thead>\n",
       "    <tr style=\"text-align: right;\">\n",
       "      <th></th>\n",
       "      <th>Time</th>\n",
       "      <th>CPU</th>\n",
       "    </tr>\n",
       "  </thead>\n",
       "  <tbody>\n",
       "    <tr>\n",
       "      <th>0</th>\n",
       "      <td>0</td>\n",
       "      <td>34</td>\n",
       "    </tr>\n",
       "    <tr>\n",
       "      <th>1</th>\n",
       "      <td>5</td>\n",
       "      <td>45</td>\n",
       "    </tr>\n",
       "    <tr>\n",
       "      <th>2</th>\n",
       "      <td>10</td>\n",
       "      <td>78</td>\n",
       "    </tr>\n",
       "    <tr>\n",
       "      <th>3</th>\n",
       "      <td>15</td>\n",
       "      <td>88</td>\n",
       "    </tr>\n",
       "    <tr>\n",
       "      <th>4</th>\n",
       "      <td>20</td>\n",
       "      <td>92</td>\n",
       "    </tr>\n",
       "  </tbody>\n",
       "</table>\n",
       "</div>"
      ],
      "text/plain": [
       "   Time  CPU\n",
       "0     0   34\n",
       "1     5   45\n",
       "2    10   78\n",
       "3    15   88\n",
       "4    20   92"
      ]
     },
     "execution_count": 12,
     "metadata": {},
     "output_type": "execute_result"
    }
   ],
   "source": [
    "df1=pd.read_excel('C:\\\\Users\\\\DELL\\\\Anaconda3\\\\cloud30april\\\\state1.xlsx')\n",
    "plt.plot(df1['Time'],df1['CPU'])\n",
    "ax=plt.gca()\n",
    "ax.set_ylim([0,101])\n",
    "ax.set_xlim([0,30])\n",
    "plt.show()\n",
    "df1.head()"
   ]
  },
  {
   "cell_type": "code",
   "execution_count": null,
   "metadata": {},
   "outputs": [],
   "source": []
  }
 ],
 "metadata": {
  "kernelspec": {
   "display_name": "Python 3",
   "language": "python",
   "name": "python3"
  },
  "language_info": {
   "codemirror_mode": {
    "name": "ipython",
    "version": 3
   },
   "file_extension": ".py",
   "mimetype": "text/x-python",
   "name": "python",
   "nbconvert_exporter": "python",
   "pygments_lexer": "ipython3",
   "version": "3.6.4"
  }
 },
 "nbformat": 4,
 "nbformat_minor": 2
}
