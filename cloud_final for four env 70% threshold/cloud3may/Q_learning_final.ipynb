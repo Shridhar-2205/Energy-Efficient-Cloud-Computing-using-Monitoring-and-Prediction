{
 "cells": [
  {
   "cell_type": "code",
   "execution_count": 1,
   "metadata": {},
   "outputs": [],
   "source": [
    "import os\n",
    "\n",
    "import numpy as np\n",
    "import pandas as pd\n",
    "import tensorflow as tf\n",
    "\n",
    "from energy_py import Runner\n",
    "from energy_py.agents import DQN\n",
    "from energy_py.envs import BatteryEnv"
   ]
  },
  {
   "cell_type": "code",
   "execution_count": 2,
   "metadata": {},
   "outputs": [],
   "source": [
    "#  set random seeds for repeatability\n",
    "np.random.seed(42)\n",
    "tf.set_random_seed(42)"
   ]
  },
  {
   "cell_type": "code",
   "execution_count": 3,
   "metadata": {
    "scrolled": true
   },
   "outputs": [],
   "source": [
    "#  define a total number of steps for the experiment to run\n",
    "TOTAL_STEPS = 400000\n",
    "\n",
    "agent_config = {'discount': 0.97,                 #  the discount rate\n",
    "                'tau': 0.01,                     #  parameter that controls the copying of weights from online to target network\n",
    "                'total_steps': TOTAL_STEPS,   \n",
    "                'batch_size': 32,                 #  size of the minibatches used for learning\n",
    "                'layers': (50, 50),               #  structure of the neural network used to approximate Q(s,a)\n",
    "                'learning_rate': 0.01,          #  controls the stength of weight updates during learning       \n",
    "                'epsilon_decay_fraction': 0.3,    #  a fraction as % of total steps where epsilon decayed from 1.0 to 0.1\n",
    "                'memory_fraction': 0.85,           #  the size of the replay memory as a % of total steps\n",
    "                'memory_type': 'deque',           #  the replay memory implementation we want\n",
    "                'process_observation': 'standardizer',\n",
    "                'process_target': 'normalizer'}    \n",
    "\n",
    "#  we just need to let our env know where our state.csv and observation.csv are (data_path)\n",
    "env = BatteryEnv(data_path=os.getcwd())"
   ]
  },
  {
   "cell_type": "code",
   "execution_count": 4,
   "metadata": {},
   "outputs": [
    {
     "name": "stdout",
     "output_type": "stream",
     "text": [
      "copying ['hidden_layer_1', 'Variable:0'] to ['hidden_layer_1', 'Variable:0']\n",
      "copying ['hidden_layer_1', 'Variable_1:0'] to ['hidden_layer_1', 'Variable_1:0']\n",
      "copying ['input_layer', 'Variable:0'] to ['input_layer', 'Variable:0']\n",
      "copying ['input_layer', 'Variable_1:0'] to ['input_layer', 'Variable_1:0']\n",
      "copying ['output_layer', 'Variable:0'] to ['output_layer', 'Variable:0']\n",
      "copying ['output_layer', 'Variable_1:0'] to ['output_layer', 'Variable_1:0']\n",
      "progress - 2.4% - episode 200 - run time 0.20 - episode reward -34.40 - avg rewards -38.02\n",
      "progress - 4.7% - episode 400 - run time 0.44 - episode reward -7.33 - avg rewards -37.40\n",
      "progress - 7.0% - episode 600 - run time 0.67 - episode reward -45.79 - avg rewards -36.66\n",
      "progress - 9.4% - episode 800 - run time 0.92 - episode reward -44.65 - avg rewards -40.74\n",
      "progress - 11.8% - episode 1000 - run time 1.17 - episode reward -45.00 - avg rewards -40.43\n",
      "progress - 14.1% - episode 1200 - run time 1.54 - episode reward -67.29 - avg rewards -43.70\n",
      "progress - 16.4% - episode 1400 - run time 2.02 - episode reward -57.11 - avg rewards -49.38\n",
      "progress - 18.8% - episode 1600 - run time 2.65 - episode reward -72.60 - avg rewards -56.36\n",
      "progress - 21.1% - episode 1800 - run time 3.27 - episode reward -28.18 - avg rewards -63.22\n",
      "progress - 23.5% - episode 2000 - run time 3.98 - episode reward -114.16 - avg rewards -68.98\n",
      "progress - 25.9% - episode 2200 - run time 4.77 - episode reward -96.65 - avg rewards -80.55\n",
      "progress - 28.2% - episode 2400 - run time 5.66 - episode reward -36.52 - avg rewards -78.86\n",
      "progress - 30.6% - episode 2600 - run time 6.64 - episode reward -154.50 - avg rewards -90.25\n",
      "progress - 32.9% - episode 2800 - run time 7.55 - episode reward -24.41 - avg rewards -98.13\n",
      "progress - 35.2% - episode 3000 - run time 8.28 - episode reward -107.32 - avg rewards -105.79\n",
      "progress - 37.6% - episode 3200 - run time 9.09 - episode reward -104.06 - avg rewards -109.08\n",
      "progress - 40.0% - episode 3400 - run time 9.95 - episode reward -125.52 - avg rewards -119.15\n",
      "progress - 42.3% - episode 3600 - run time 10.84 - episode reward -119.28 - avg rewards -124.66\n",
      "progress - 44.6% - episode 3800 - run time 13.96 - episode reward -6.12 - avg rewards -50.98\n",
      "progress - 47.0% - episode 4000 - run time 19.08 - episode reward 0.00 - avg rewards -0.82\n",
      "progress - 49.4% - episode 4200 - run time 23.32 - episode reward -0.40 - avg rewards -0.72\n",
      "progress - 51.7% - episode 4400 - run time 28.45 - episode reward -1.39 - avg rewards -0.74\n",
      "progress - 54.0% - episode 4600 - run time 33.66 - episode reward -1.00 - avg rewards -0.87\n",
      "progress - 56.4% - episode 4800 - run time 37.90 - episode reward -2.33 - avg rewards -0.67\n",
      "progress - 58.8% - episode 5000 - run time 42.07 - episode reward -1.05 - avg rewards -1.04\n",
      "progress - 61.1% - episode 5200 - run time 45.35 - episode reward -1.04 - avg rewards -0.80\n",
      "progress - 63.5% - episode 5400 - run time 48.64 - episode reward 0.00 - avg rewards -0.82\n",
      "progress - 65.8% - episode 5600 - run time 51.92 - episode reward -0.82 - avg rewards -0.79\n",
      "progress - 68.2% - episode 5800 - run time 55.20 - episode reward -0.16 - avg rewards -0.65\n",
      "progress - 70.5% - episode 6000 - run time 58.47 - episode reward -0.25 - avg rewards -0.96\n",
      "progress - 72.8% - episode 6200 - run time 61.78 - episode reward 0.00 - avg rewards -0.66\n",
      "progress - 75.2% - episode 6400 - run time 65.06 - episode reward -1.25 - avg rewards -0.84\n",
      "progress - 77.5% - episode 6600 - run time 68.80 - episode reward -0.59 - avg rewards -0.98\n",
      "progress - 79.9% - episode 6800 - run time 73.42 - episode reward -1.75 - avg rewards -0.74\n",
      "progress - 82.2% - episode 7000 - run time 77.64 - episode reward 0.00 - avg rewards -0.87\n",
      "progress - 84.6% - episode 7200 - run time 82.82 - episode reward -7.52 - avg rewards -1.11\n",
      "progress - 87.0% - episode 7400 - run time 86.33 - episode reward -1.28 - avg rewards -0.85\n",
      "progress - 89.3% - episode 7600 - run time 89.66 - episode reward -1.25 - avg rewards -0.93\n",
      "progress - 91.7% - episode 7800 - run time 92.97 - episode reward 0.00 - avg rewards -0.80\n",
      "progress - 94.0% - episode 8000 - run time 96.25 - episode reward 0.00 - avg rewards -1.06\n",
      "progress - 96.3% - episode 8200 - run time 99.54 - episode reward -1.52 - avg rewards -0.77\n",
      "progress - 98.7% - episode 8400 - run time 102.82 - episode reward 0.00 - avg rewards -0.97\n"
     ]
    }
   ],
   "source": [
    "#  Runner is a class that helps us with experiments - tracking rewards, writing environment info to csv and managing TensorBoard\n",
    "#  in this notebook we just use it to track rewards for us\n",
    "runner = Runner()\n",
    "\n",
    "#  initialize Tensorflow machinery\n",
    "with tf.Session() as sess:\n",
    "    sess.run(tf.global_variables_initializer())\n",
    "    \n",
    "    #  add the tf session and t-+he environment to the agent config dictionary\n",
    "    #  and initialize the agent\n",
    "    agent_config['sess'] = sess\n",
    "    agent_config['env'] = env\n",
    "    agent = DQN(**agent_config)\n",
    "    \n",
    "    #  initial values for the step and episode number\n",
    "    step, episode = 0, 0\n",
    "\n",
    "    #  outer while loop runs through multiple episodes\n",
    "    while step < TOTAL_STEPS:\n",
    "        episode += 1\n",
    "        done = False\n",
    "        observation = env.reset()\n",
    "        \n",
    "        while not done:\n",
    "            step += 1\n",
    "            action = agent.act(observation)\n",
    "            \n",
    "            next_observation, reward, done, info = env.step(action)\n",
    "            \n",
    "            #  store the experience\n",
    "            agent.remember(observation, action, reward,\n",
    "                           next_observation, done)\n",
    "            \n",
    "            #  moving to the next time step\n",
    "            observation = next_observation\n",
    "            #  saving the reward \n",
    "            runner.append(reward)\n",
    "            \n",
    "            #  we don't start learning until the memory is half full\n",
    "            if step > int(agent.memory.size * 0.5):  #set threshold to start learning\n",
    "                train_info = agent.learn()\n",
    "        \n",
    "        if episode % 200 == 0:\n",
    "            print('progress - {:.1f}% - episode {:.0f} - run time {:.2f} - episode reward {:.2f} - avg rewards {:.2f}'.format(100*step/TOTAL_STEPS,\n",
    "                                                                                                                              episode,\n",
    "                                                                                                                              runner.calc_time(),\n",
    "                                                                                                                              sum(runner.ep_rewards),\n",
    "                                                                                                                              runner.avg_rew))\n",
    "        #  the report method should be run at the end of each episode\n",
    "        runner.report({'ep': episode,\n",
    "                       'step': step})"
   ]
  },
  {
   "cell_type": "code",
   "execution_count": null,
   "metadata": {},
   "outputs": [],
   "source": []
  },
  {
   "cell_type": "code",
   "execution_count": 6,
   "metadata": {},
   "outputs": [
    {
     "data": {
      "text/plain": [
       "[<matplotlib.lines.Line2D at 0x1c6715689b0>]"
      ]
     },
     "execution_count": 6,
     "metadata": {},
     "output_type": "execute_result"
    },
    {
     "data": {
      "image/png": "[encoded data removed]",
      "text/plain": [
       "<matplotlib.figure.Figure at 0x1c6711c0e80>"
      ]
     },
     "metadata": {},
     "output_type": "display_data"
    }
   ],
   "source": [
    "#  plot rewards\n",
    "\n",
    "import matplotlib.pyplot as plt\n",
    "\n",
    "episode_rewards = runner.global_rewards\n",
    "plt.plot(episode_rewards)"
   ]
  },
  {
   "cell_type": "code",
   "execution_count": 7,
   "metadata": {},
   "outputs": [
    {
     "data": {
      "text/html": [
       "<div>\n",
       "<style scoped>\n",
       "    .dataframe tbody tr th:only-of-type {\n",
       "        vertical-align: middle;\n",
       "    }\n",
       "\n",
       "    .dataframe tbody tr th {\n",
       "        vertical-align: top;\n",
       "    }\n",
       "\n",
       "    .dataframe thead th {\n",
       "        text-align: right;\n",
       "    }\n",
       "</style>\n",
       "<table border=\"1\" class=\"dataframe\">\n",
       "  <thead>\n",
       "    <tr style=\"text-align: right;\">\n",
       "      <th></th>\n",
       "      <th>action</th>\n",
       "      <th>cpu_utilization</th>\n",
       "      <th>gross_rate</th>\n",
       "      <th>losses</th>\n",
       "      <th>net_stored</th>\n",
       "      <th>new_rate</th>\n",
       "      <th>next_observation</th>\n",
       "      <th>next_state</th>\n",
       "      <th>observation</th>\n",
       "      <th>old_rate</th>\n",
       "      <th>reward</th>\n",
       "      <th>state</th>\n",
       "      <th>steps</th>\n",
       "    </tr>\n",
       "  </thead>\n",
       "  <tbody>\n",
       "    <tr>\n",
       "      <th>0</th>\n",
       "      <td>[0.631578947368421, 1.1578947368421053]</td>\n",
       "      <td>94.366667</td>\n",
       "      <td>0.0</td>\n",
       "      <td>0.0</td>\n",
       "      <td>0.0</td>\n",
       "      <td>0.0</td>\n",
       "      <td>[[50.0, 50.0, 50.0, 100.0, 100.0, 1.0, 1.0, 0.0]]</td>\n",
       "      <td>[[94.7, 0.0]]</td>\n",
       "      <td>[[50.0, 50.0, 50.0, 50.0, 100.0, 0.0, 1.0, 0.0]]</td>\n",
       "      <td>0.0</td>\n",
       "      <td>-0.0</td>\n",
       "      <td>[[94.36666667, 0.0]]</td>\n",
       "      <td>1</td>\n",
       "    </tr>\n",
       "    <tr>\n",
       "      <th>1</th>\n",
       "      <td>[0.631578947368421, 1.1578947368421053]</td>\n",
       "      <td>94.700000</td>\n",
       "      <td>0.0</td>\n",
       "      <td>0.0</td>\n",
       "      <td>0.0</td>\n",
       "      <td>0.0</td>\n",
       "      <td>[[50.0, 50.0, 100.0, 100.0, 100.0, 2.0, 1.0, 0...</td>\n",
       "      <td>[[94.4, 0.0]]</td>\n",
       "      <td>[[50.0, 50.0, 50.0, 100.0, 100.0, 1.0, 1.0, 0.0]]</td>\n",
       "      <td>0.0</td>\n",
       "      <td>-0.0</td>\n",
       "      <td>[[94.7, 0.0]]</td>\n",
       "      <td>2</td>\n",
       "    </tr>\n",
       "    <tr>\n",
       "      <th>2</th>\n",
       "      <td>[0.631578947368421, 1.1578947368421053]</td>\n",
       "      <td>94.400000</td>\n",
       "      <td>0.0</td>\n",
       "      <td>0.0</td>\n",
       "      <td>0.0</td>\n",
       "      <td>0.0</td>\n",
       "      <td>[[50.0, 100.0, 100.0, 100.0, 100.0, 3.0, 1.0, ...</td>\n",
       "      <td>[[94.33333333, 0.0]]</td>\n",
       "      <td>[[50.0, 50.0, 100.0, 100.0, 100.0, 2.0, 1.0, 0...</td>\n",
       "      <td>0.0</td>\n",
       "      <td>-0.0</td>\n",
       "      <td>[[94.4, 0.0]]</td>\n",
       "      <td>3</td>\n",
       "    </tr>\n",
       "    <tr>\n",
       "      <th>3</th>\n",
       "      <td>[0.631578947368421, 1.1578947368421053]</td>\n",
       "      <td>94.333333</td>\n",
       "      <td>0.0</td>\n",
       "      <td>0.0</td>\n",
       "      <td>0.0</td>\n",
       "      <td>0.0</td>\n",
       "      <td>[[100.0, 100.0, 100.0, 100.0, 100.0, 4.0, 1.0,...</td>\n",
       "      <td>[[94.53333333, 0.0]]</td>\n",
       "      <td>[[50.0, 100.0, 100.0, 100.0, 100.0, 3.0, 1.0, ...</td>\n",
       "      <td>0.0</td>\n",
       "      <td>-0.0</td>\n",
       "      <td>[[94.33333333, 0.0]]</td>\n",
       "      <td>4</td>\n",
       "    </tr>\n",
       "    <tr>\n",
       "      <th>4</th>\n",
       "      <td>[0.631578947368421, 1.1578947368421053]</td>\n",
       "      <td>94.533333</td>\n",
       "      <td>0.0</td>\n",
       "      <td>0.0</td>\n",
       "      <td>0.0</td>\n",
       "      <td>0.0</td>\n",
       "      <td>[[100.0, 100.0, 100.0, 100.0, -50.0, 5.0, 1.0,...</td>\n",
       "      <td>[[94.16666667, 0.0]]</td>\n",
       "      <td>[[100.0, 100.0, 100.0, 100.0, 100.0, 4.0, 1.0,...</td>\n",
       "      <td>0.0</td>\n",
       "      <td>-0.0</td>\n",
       "      <td>[[94.53333333, 0.0]]</td>\n",
       "      <td>5</td>\n",
       "    </tr>\n",
       "  </tbody>\n",
       "</table>\n",
       "</div>"
      ],
      "text/plain": [
       "                                    action  cpu_utilization  gross_rate  \\\n",
       "0  [0.631578947368421, 1.1578947368421053]        94.366667         0.0   \n",
       "1  [0.631578947368421, 1.1578947368421053]        94.700000         0.0   \n",
       "2  [0.631578947368421, 1.1578947368421053]        94.400000         0.0   \n",
       "3  [0.631578947368421, 1.1578947368421053]        94.333333         0.0   \n",
       "4  [0.631578947368421, 1.1578947368421053]        94.533333         0.0   \n",
       "\n",
       "   losses  net_stored  new_rate  \\\n",
       "0     0.0         0.0       0.0   \n",
       "1     0.0         0.0       0.0   \n",
       "2     0.0         0.0       0.0   \n",
       "3     0.0         0.0       0.0   \n",
       "4     0.0         0.0       0.0   \n",
       "\n",
       "                                    next_observation            next_state  \\\n",
       "0  [[50.0, 50.0, 50.0, 100.0, 100.0, 1.0, 1.0, 0.0]]         [[94.7, 0.0]]   \n",
       "1  [[50.0, 50.0, 100.0, 100.0, 100.0, 2.0, 1.0, 0...         [[94.4, 0.0]]   \n",
       "2  [[50.0, 100.0, 100.0, 100.0, 100.0, 3.0, 1.0, ...  [[94.33333333, 0.0]]   \n",
       "3  [[100.0, 100.0, 100.0, 100.0, 100.0, 4.0, 1.0,...  [[94.53333333, 0.0]]   \n",
       "4  [[100.0, 100.0, 100.0, 100.0, -50.0, 5.0, 1.0,...  [[94.16666667, 0.0]]   \n",
       "\n",
       "                                         observation  old_rate  reward  \\\n",
       "0   [[50.0, 50.0, 50.0, 50.0, 100.0, 0.0, 1.0, 0.0]]       0.0    -0.0   \n",
       "1  [[50.0, 50.0, 50.0, 100.0, 100.0, 1.0, 1.0, 0.0]]       0.0    -0.0   \n",
       "2  [[50.0, 50.0, 100.0, 100.0, 100.0, 2.0, 1.0, 0...       0.0    -0.0   \n",
       "3  [[50.0, 100.0, 100.0, 100.0, 100.0, 3.0, 1.0, ...       0.0    -0.0   \n",
       "4  [[100.0, 100.0, 100.0, 100.0, 100.0, 4.0, 1.0,...       0.0    -0.0   \n",
       "\n",
       "                  state  steps  \n",
       "0  [[94.36666667, 0.0]]      1  \n",
       "1         [[94.7, 0.0]]      2  \n",
       "2         [[94.4, 0.0]]      3  \n",
       "3  [[94.33333333, 0.0]]      4  \n",
       "4  [[94.53333333, 0.0]]      5  "
      ]
     },
     "execution_count": 7,
     "metadata": {},
     "output_type": "execute_result"
    }
   ],
   "source": [
    "#  we can also look at what happened in our last episode\n",
    "ep_hist = pd.DataFrame.from_dict(info)\n",
    "fd = pd.DataFrame.from_dict(info)\n",
    "\n",
    "fd.columns = ['action','done','cpu_utilization','gross_rate','losses','net_stored','new_rate','next_observation','next_state','observation','old_rate','reward','state','steps']\n",
    "fd =fd.drop('done',1)\n",
    "#fd.columns = ['action', 'done','cpu_util']\n",
    "fd.head()\n",
    "#print(fd['done'],fd['action'])\n",
    "#ep_hist.head()"
   ]
  },
  {
   "cell_type": "code",
   "execution_count": 8,
   "metadata": {},
   "outputs": [
    {
     "data": {
      "text/plain": [
       "[<matplotlib.lines.Line2D at 0x1c6725c90b8>]"
      ]
     },
     "execution_count": 8,
     "metadata": {},
     "output_type": "execute_result"
    },
    {
     "data": {
      "image/png": "[encoded data removed]",
      "text/plain": [
       "<matplotlib.figure.Figure at 0x1c671540828>"
      ]
     },
     "metadata": {},
     "output_type": "display_data"
    }
   ],
   "source": [
    "#plt.plot(ep_hist.loc[:, 'new_charge'])\n",
    "plt.plot(fd.loc[:, 'new_rate'])\n"
   ]
  },
  {
   "cell_type": "code",
   "execution_count": 9,
   "metadata": {},
   "outputs": [
    {
     "name": "stdout",
     "output_type": "stream",
     "text": [
      "Loss function\n"
     ]
    },
    {
     "data": {
      "text/plain": [
       "[<matplotlib.lines.Line2D at 0x1c6726297f0>]"
      ]
     },
     "execution_count": 9,
     "metadata": {},
     "output_type": "execute_result"
    },
    {
     "data": {
      "image/png": "[encoded data removed]",
      "text/plain": [
       "<matplotlib.figure.Figure at 0x1c6725ea630>"
      ]
     },
     "metadata": {},
     "output_type": "display_data"
    }
   ],
   "source": [
    "print('Loss function')\n",
    "plt.plot(fd.loc[:, 'losses'])"
   ]
  },
  {
   "cell_type": "code",
   "execution_count": 10,
   "metadata": {},
   "outputs": [
    {
     "data": {
      "text/plain": [
       "[<matplotlib.lines.Line2D at 0x1c6726920b8>]"
      ]
     },
     "execution_count": 10,
     "metadata": {},
     "output_type": "execute_result"
    },
    {
     "data": {
      "image/png": "[encoded data removed]",
      "text/plain": [
       "<matplotlib.figure.Figure at 0x1c67263a828>"
      ]
     },
     "metadata": {},
     "output_type": "display_data"
    }
   ],
   "source": [
    "#plt.plot(ep_hist.loc[:, 'electricity_price'])\n",
    "plt.plot(fd.loc[:, 'cpu_utilization'])"
   ]
  },
  {
   "cell_type": "code",
   "execution_count": 11,
   "metadata": {},
   "outputs": [
    {
     "data": {
      "text/plain": [
       "-0.8087719298245617"
      ]
     },
     "execution_count": 11,
     "metadata": {},
     "output_type": "execute_result"
    }
   ],
   "source": [
    "ep_hist.loc[:, 'reward'].sum()"
   ]
  },
  {
   "cell_type": "code",
   "execution_count": 12,
   "metadata": {},
   "outputs": [
    {
     "data": {
      "image/png": "[encoded data removed]",
      "text/plain": [
       "<matplotlib.figure.Figure at 0x1c672752d68>"
      ]
     },
     "metadata": {},
     "output_type": "display_data"
    },
    {
     "data": {
      "text/html": [
       "<div>\n",
       "<style scoped>\n",
       "    .dataframe tbody tr th:only-of-type {\n",
       "        vertical-align: middle;\n",
       "    }\n",
       "\n",
       "    .dataframe tbody tr th {\n",
       "        vertical-align: top;\n",
       "    }\n",
       "\n",
       "    .dataframe thead th {\n",
       "        text-align: right;\n",
       "    }\n",
       "</style>\n",
       "<table border=\"1\" class=\"dataframe\">\n",
       "  <thead>\n",
       "    <tr style=\"text-align: right;\">\n",
       "      <th></th>\n",
       "      <th>Time</th>\n",
       "      <th>CPU</th>\n",
       "    </tr>\n",
       "  </thead>\n",
       "  <tbody>\n",
       "    <tr>\n",
       "      <th>0</th>\n",
       "      <td>0.0</td>\n",
       "      <td>34.0</td>\n",
       "    </tr>\n",
       "    <tr>\n",
       "      <th>1</th>\n",
       "      <td>5.0</td>\n",
       "      <td>23.0</td>\n",
       "    </tr>\n",
       "    <tr>\n",
       "      <th>2</th>\n",
       "      <td>10.0</td>\n",
       "      <td>23.0</td>\n",
       "    </tr>\n",
       "    <tr>\n",
       "      <th>3</th>\n",
       "      <td>15.0</td>\n",
       "      <td>34.0</td>\n",
       "    </tr>\n",
       "    <tr>\n",
       "      <th>4</th>\n",
       "      <td>20.0</td>\n",
       "      <td>56.0</td>\n",
       "    </tr>\n",
       "  </tbody>\n",
       "</table>\n",
       "</div>"
      ],
      "text/plain": [
       "   Time   CPU\n",
       "0   0.0  34.0\n",
       "1   5.0  23.0\n",
       "2  10.0  23.0\n",
       "3  15.0  34.0\n",
       "4  20.0  56.0"
      ]
     },
     "execution_count": 12,
     "metadata": {},
     "output_type": "execute_result"
    }
   ],
   "source": [
    "df1=pd.read_excel('C:\\\\Users\\\\DELL\\\\Anaconda3\\\\cloud2may\\\\state1.xlsx')\n",
    "plt.plot(df1['Time'],df1['CPU'])\n",
    "ax=plt.gca()\n",
    "ax.set_ylim([0,101])\n",
    "ax.set_xlim([0,100])\n",
    "plt.show()\n",
    "df1.head()"
   ]
  },
  {
   "cell_type": "code",
   "execution_count": null,
   "metadata": {},
   "outputs": [],
   "source": []
  }
 ],
 "metadata": {
  "kernelspec": {
   "display_name": "Python 3",
   "language": "python",
   "name": "python3"
  },
  "language_info": {
   "codemirror_mode": {
    "name": "ipython",
    "version": 3
   },
   "file_extension": ".py",
   "mimetype": "text/x-python",
   "name": "python",
   "nbconvert_exporter": "python",
   "pygments_lexer": "ipython3",
   "version": "3.6.4"
  }
 },
 "nbformat": 4,
 "nbformat_minor": 2
}
