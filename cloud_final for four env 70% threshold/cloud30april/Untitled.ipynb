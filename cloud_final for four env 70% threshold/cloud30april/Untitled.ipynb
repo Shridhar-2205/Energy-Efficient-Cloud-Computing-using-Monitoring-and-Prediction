{
 "cells": [
  {
   "cell_type": "code",
   "execution_count": 3,
   "metadata": {},
   "outputs": [],
   "source": [
    "import os\n",
    "import time\n",
    "\n",
    "import numpy as np\n",
    "import pandas as pd\n",
    "import tensorflow as tf\n",
    "\n",
    "#from energy_py import EternityVisualizer\n",
    "from energy_py import Runner\n",
    "\n",
    "#from energy_py.agents import DQN, Q_DQN\n",
    "from energy_py.envs import BatteryEnv"
   ]
  },
  {
   "cell_type": "code",
   "execution_count": 4,
   "metadata": {},
   "outputs": [],
   "source": [
    "#  set random seeds for repeatability\n",
    "np.random.seed(42)\n",
    "tf.set_random_seed(42)"
   ]
  },
  {
   "cell_type": "code",
   "execution_count": 6,
   "metadata": {},
   "outputs": [],
   "source": [
    "#  let our environment know where our state & observation data is\n",
    "data_path = os.getcwd()\n",
    "\n",
    "#  keep all of the BatteryEnv variables (episode length, efficiency etc)\n",
    "#  at their defaults\n",
    "env = BatteryEnv(data_path=os.getcwd())"
   ]
  },
  {
   "cell_type": "code",
   "execution_count": 7,
   "metadata": {},
   "outputs": [
    {
     "ename": "AttributeError",
     "evalue": "'BatteryEnv' object has no attribute 'episode_length'",
     "output_type": "error",
     "traceback": [
      "\u001b[1;31m---------------------------------------------------------------------------\u001b[0m",
      "\u001b[1;31mAttributeError\u001b[0m                            Traceback (most recent call last)",
      "\u001b[1;32m<ipython-input-7-ee0c62b39b8f>\u001b[0m in \u001b[0;36m<module>\u001b[1;34m()\u001b[0m\n\u001b[0;32m      6\u001b[0m \u001b[1;31m#  update frequency, we need to let our agent know how many total steps\u001b[0m\u001b[1;33m\u001b[0m\u001b[1;33m\u001b[0m\u001b[0m\n\u001b[0;32m      7\u001b[0m \u001b[1;31m#  it will take in it's life\u001b[0m\u001b[1;33m\u001b[0m\u001b[1;33m\u001b[0m\u001b[0m\n\u001b[1;32m----> 8\u001b[1;33m \u001b[0mtotal_steps\u001b[0m \u001b[1;33m=\u001b[0m \u001b[0menv\u001b[0m\u001b[1;33m.\u001b[0m\u001b[0mepisode_length\u001b[0m \u001b[1;33m*\u001b[0m \u001b[0mEPISODES\u001b[0m\u001b[1;33m\u001b[0m\u001b[0m\n\u001b[0m\u001b[0;32m      9\u001b[0m \u001b[1;33m\u001b[0m\u001b[0m\n\u001b[0;32m     10\u001b[0m \u001b[1;31m#  now we setup our agent\u001b[0m\u001b[1;33m\u001b[0m\u001b[1;33m\u001b[0m\u001b[0m\n",
      "\u001b[1;31mAttributeError\u001b[0m: 'BatteryEnv' object has no attribute 'episode_length'"
     ]
    }
   ],
   "source": [
    "BATCH_SIZE = 32\n",
    "DISCOUNT = 0.99\n",
    "EPISODES = 5000\n",
    "\n",
    "#  in order to setup hyperparameters like epsilon decay or target net\n",
    "#  update frequency, we need to let our agent know how many total steps\n",
    "#  it will take in it's life\n",
    "total_steps = env.episode_length * EPISODES\n",
    "\n",
    "#  now we setup our agent\n",
    "#  we pass in an object to approximate Q(s,a)\n",
    "#  this object is an energy_py function approximator that uses \n",
    "#  Tensorflow to estimate expected discounted return for each action\n",
    "agent = DQN(env,\n",
    "            discount=DISCOUNT,\n",
    "            Q=Q_DQN,\n",
    "            total_steps=total_steps,\n",
    "            discrete_space_size=5)\n",
    "\n",
    "#  we can have a look at the discretized action space\n",
    "agent.actions"
   ]
  },
  {
   "cell_type": "code",
   "execution_count": null,
   "metadata": {},
   "outputs": [],
   "source": []
  }
 ],
 "metadata": {
  "kernelspec": {
   "display_name": "Python 3",
   "language": "python",
   "name": "python3"
  },
  "language_info": {
   "codemirror_mode": {
    "name": "ipython",
    "version": 3
   },
   "file_extension": ".py",
   "mimetype": "text/x-python",
   "name": "python",
   "nbconvert_exporter": "python",
   "pygments_lexer": "ipython3",
   "version": "3.6.4"
  }
 },
 "nbformat": 4,
 "nbformat_minor": 2
}
